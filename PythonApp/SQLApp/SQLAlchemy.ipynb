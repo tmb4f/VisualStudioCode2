{
 "cells": [
  {
   "cell_type": "code",
   "execution_count": null,
   "metadata": {},
   "outputs": [],
   "source": [
    "import sqlalchemy\n",
    "import config\n",
    "# import logging\n",
    "import os"
   ]
  },
  {
   "cell_type": "code",
   "execution_count": null,
   "metadata": {},
   "outputs": [],
   "source": [
    "# log_dir = os.getenv('ERROR_LOGS')\n",
    "# # logging_level = logging.INFO\n",
    "# # logging_level = logging.DEBUG\n",
    "# logger = logging.getLogger()\n",
    "# logging.basicConfig(filename=os.path.join(log_dir, \"patient_progression.log\"), level=logging.DEBUG,\n",
    "#                     format='%(asctime)s - %(name)s - %(levelname)s - %(message)s')"
   ]
  },
  {
   "cell_type": "code",
   "execution_count": null,
   "metadata": {},
   "outputs": [],
   "source": [
    "sqlalchemy.__version__"
   ]
  },
  {
   "cell_type": "code",
   "execution_count": null,
   "metadata": {},
   "outputs": [],
   "source": [
    "from sqlalchemy import create_engine"
   ]
  },
  {
   "cell_type": "code",
   "execution_count": null,
   "metadata": {},
   "outputs": [],
   "source": [
    "dbconnstr = f'{config.dialect}://{config.service_user}:{config.service_pass}@{config.server_name_t}/{config.db_name}'\\\n",
    "                            f'?driver={config.db_driver}&trusted_connection={config.trusted_connection}'"
   ]
  },
  {
   "cell_type": "code",
   "execution_count": null,
   "metadata": {},
   "outputs": [],
   "source": [
    "print(dbconnstr)\n",
    "# logger.info(dbconnstr)\n",
    "# logger.info(\"Establishing connection to DB. . .\")\n",
    "engine = create_engine(dbconnstr, fast_executemany=True, echo=True)"
   ]
  },
  {
   "cell_type": "markdown",
   "metadata": {},
   "source": [
    "Stage.Stage_Invoca_CallActivity"
   ]
  },
  {
   "cell_type": "code",
   "execution_count": null,
   "metadata": {},
   "outputs": [],
   "source": [
    "from sqlalchemy import text\n",
    "\n",
    "with engine.connect() as conn:\n",
    "    # result = conn.execute(text(\"select * from Stage.Stage_Invoca_CallActivity\"))\n",
    "    result = conn.execute(text(\"select 'hello world'\"))\n",
    "    print(result.all())"
   ]
  }
 ],
 "metadata": {
  "kernelspec": {
   "display_name": "Python 3",
   "language": "python",
   "name": "python3"
  },
  "language_info": {
   "codemirror_mode": {
    "name": "ipython",
    "version": 3
   },
   "file_extension": ".py",
   "mimetype": "text/x-python",
   "name": "python",
   "nbconvert_exporter": "python",
   "pygments_lexer": "ipython3",
   "version": "3.10.2"
  }
 },
 "nbformat": 4,
 "nbformat_minor": 2
}
