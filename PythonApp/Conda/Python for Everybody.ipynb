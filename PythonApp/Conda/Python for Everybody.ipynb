{
 "cells": [
  {
   "cell_type": "markdown",
   "metadata": {},
   "source": [
    "Python for Everybody"
   ]
  },
  {
   "cell_type": "markdown",
   "metadata": {},
   "source": [
    "Assignment 1"
   ]
  },
  {
   "cell_type": "code",
   "execution_count": null,
   "metadata": {},
   "outputs": [],
   "source": [
    "print('hello world')"
   ]
  },
  {
   "cell_type": "code",
   "execution_count": null,
   "metadata": {},
   "outputs": [],
   "source": [
    "print('hello','world')"
   ]
  },
  {
   "cell_type": "markdown",
   "metadata": {},
   "source": [
    "Data types"
   ]
  },
  {
   "cell_type": "code",
   "execution_count": null,
   "metadata": {},
   "outputs": [],
   "source": [
    "message = 'hello world'\n",
    "type(message)"
   ]
  },
  {
   "cell_type": "code",
   "execution_count": null,
   "metadata": {},
   "outputs": [],
   "source": [
    "x = 1\n",
    "type(x)"
   ]
  },
  {
   "cell_type": "code",
   "execution_count": null,
   "metadata": {},
   "outputs": [],
   "source": [
    "x = 1\n",
    "type(x)"
   ]
  },
  {
   "cell_type": "code",
   "execution_count": null,
   "metadata": {},
   "outputs": [],
   "source": [
    "x = float(x)\n",
    "type(x)\n",
    "print(x)"
   ]
  },
  {
   "cell_type": "code",
   "execution_count": null,
   "metadata": {},
   "outputs": [],
   "source": [
    "x = int(x)\n",
    "type(x)\n",
    "print(x)"
   ]
  },
  {
   "cell_type": "code",
   "execution_count": null,
   "metadata": {},
   "outputs": [],
   "source": [
    "strx = '1'\n",
    "print(strx)\n",
    "type(strx)"
   ]
  },
  {
   "cell_type": "code",
   "execution_count": null,
   "metadata": {},
   "outputs": [],
   "source": [
    "fltx = float(strx)\n",
    "print(fltx)\n",
    "type(fltx)"
   ]
  },
  {
   "cell_type": "code",
   "execution_count": null,
   "metadata": {},
   "outputs": [],
   "source": [
    "fltx = input('Enter a float value ==>')\n",
    "print(fltx)\n",
    "type(fltx)"
   ]
  },
  {
   "cell_type": "markdown",
   "metadata": {},
   "source": [
    "Assignment 2"
   ]
  },
  {
   "cell_type": "code",
   "execution_count": null,
   "metadata": {},
   "outputs": [],
   "source": [
    "name = input(\"Enter your name\")\n",
    "print(\"Hello\",name)"
   ]
  },
  {
   "cell_type": "markdown",
   "metadata": {},
   "source": [
    "Assignment 2.3\n",
    "2.3 Write a program to prompt the user for hours and rate per hour using input to compute gross pay. Use 35 hours and a rate of 2.75 per hour to test the program (the pay should be 96.25). You should use input to read a string and float() to convert the string to a number. Do not worry about error checking or bad user data."
   ]
  },
  {
   "cell_type": "code",
   "execution_count": null,
   "metadata": {},
   "outputs": [],
   "source": [
    "# Gross pay calculator\n",
    "hours = input(\"Enter hours worked:\")\n",
    "hours_flt = float(hours)\n",
    "rate = input(\"Enter hourly rate:\")\n",
    "rate_flt = float(rate)\n",
    "print(\"Pay:\", hours_flt * rate_flt)"
   ]
  },
  {
   "cell_type": "markdown",
   "metadata": {},
   "source": [
    "Assignment 3.1\n",
    "3.1 Write a program to prompt the user for hours and rate per hour using input to compute gross pay. Pay the hourly rate for the hours up to 40 and 1.5 times the hourly rate for all hours worked above 40 hours. Use 45 hours and a rate of 10.50 per hour to test the program (the pay should be 498.75). You should use input to read a string and float() to convert the string to a number. Do not worry about error checking the user input - assume the user types numbers properly."
   ]
  },
  {
   "cell_type": "code",
   "execution_count": null,
   "metadata": {},
   "outputs": [],
   "source": [
    "# Gross pay calculator\n",
    "hours = input(\"Enter hours worked:\")\n",
    "hours_flt = float(hours)\n",
    "rate = input(\"Enter hourly rate:\")\n",
    "rate_flt = float(rate)\n",
    "if hours_flt > 40.0:\n",
    "    gross_pay = (40.0*rate_flt) + ((hours_flt - 40.0)*(rate_flt*1.5))\n",
    "else:\n",
    "    gross_pay = hours_flt*rate_flt\n",
    "print(gross_pay)"
   ]
  },
  {
   "cell_type": "markdown",
   "metadata": {},
   "source": [
    "Assignment 3.3\n",
    "3.3 Write a program to prompt for a score between 0.0 and 1.0. If the score is out of range, print an error. If the score is between 0.0 and 1.0, print a grade using the following table:\n",
    "Score Grade\n",
    ">= 0.9 A\n",
    ">= 0.8 B\n",
    ">= 0.7 C\n",
    ">= 0.6 D\n",
    "< 0.6 F\n",
    "If the user enters a value out of range, print a suitable error message and exit. For the test, enter a score of 0.85."
   ]
  },
  {
   "cell_type": "code",
   "execution_count": null,
   "metadata": {},
   "outputs": [],
   "source": [
    "# Assign grade to score\n",
    "score = input(\"Enter score:\")\n",
    "try:\n",
    "    score = float(score)\n",
    "except:\n",
    "    print('Invalid score entered')\n",
    "    quit()\n",
    "if score < 0.0 or score_flt > 1.0:\n",
    "    print('Entered score out of range (0.0 - 1.0)')\n",
    "    quit()\n",
    "elif score_flt >= 0.9:\n",
    "    grade = 'A'\n",
    "elif score_flt >= 0.8:\n",
    "    grade = 'B'\n",
    "elif score_flt >= 0.7:\n",
    "    grade = 'C'\n",
    "elif score_flt >= 0.6:\n",
    "    grade = 'D'\n",
    "elif score_flt < 0.6:\n",
    "    grade = 'F'\n",
    "print(grade)"
   ]
  },
  {
   "cell_type": "code",
   "execution_count": null,
   "metadata": {},
   "outputs": [],
   "source": [
    "# Gross pay calculator\n",
    "def computepay(hours,rate):\n",
    "    if hours > 40.0:\n",
    "        gross_pay = (40.0*rate) + ((hours - 40.0)*(rate*1.5))\n",
    "    else:\n",
    "        gross_pay = hours*rate\n",
    "    return gross_pay\n",
    "    \n",
    "hours = input(\"Enter hours worked:\")\n",
    "hours_flt = float(hours)\n",
    "rate = input(\"Enter hourly rate:\")\n",
    "rate_flt = float(rate)\n",
    "print(\"Pay:\", computepay(hours_flt,rate_flt))"
   ]
  },
  {
   "cell_type": "code",
   "execution_count": null,
   "metadata": {},
   "outputs": [],
   "source": [
    "# Assign grade to score\n",
    "def computegrade(score):\n",
    "    if score >= 0.9:\n",
    "        grade = 'A'\n",
    "    elif score >= 0.8:\n",
    "        grade = 'B'\n",
    "    elif score >= 0.7:\n",
    "        grade = 'C'\n",
    "    elif score >= 0.6:\n",
    "        grade = 'D'\n",
    "    elif score < 0.6:\n",
    "        grade = 'F'\n",
    "    return(grade)\n",
    "score = input(\"Enter score:\")\n",
    "try:\n",
    "    score_flt = float(score)\n",
    "except:\n",
    "    print('Invalid score entered')\n",
    "    quit()\n",
    "if score_flt < 0.0 or score_flt > 1.0:\n",
    "    print('Entered score out of range (0.0 - 1.0)')\n",
    "    quit()\n",
    "print(computegrade(score_flt))"
   ]
  }
 ],
 "metadata": {
  "kernelspec": {
   "display_name": "condaenv",
   "language": "python",
   "name": "python3"
  },
  "language_info": {
   "codemirror_mode": {
    "name": "ipython",
    "version": 3
   },
   "file_extension": ".py",
   "mimetype": "text/x-python",
   "name": "python",
   "nbconvert_exporter": "python",
   "pygments_lexer": "ipython3",
   "version": "3.12.1"
  }
 },
 "nbformat": 4,
 "nbformat_minor": 2
}
