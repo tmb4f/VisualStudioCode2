{
 "cells": [
  {
   "cell_type": "markdown",
   "metadata": {},
   "source": [
    "Python for Everybody"
   ]
  },
  {
   "cell_type": "markdown",
   "metadata": {},
   "source": [
    "Assignment 1"
   ]
  },
  {
   "cell_type": "code",
   "execution_count": null,
   "metadata": {},
   "outputs": [],
   "source": [
    "print('hello world')"
   ]
  },
  {
   "cell_type": "code",
   "execution_count": null,
   "metadata": {},
   "outputs": [],
   "source": [
    "print('hello','world')"
   ]
  },
  {
   "cell_type": "markdown",
   "metadata": {},
   "source": [
    "Data types"
   ]
  },
  {
   "cell_type": "code",
   "execution_count": null,
   "metadata": {},
   "outputs": [],
   "source": [
    "message = 'hello world'\n",
    "type(message)"
   ]
  },
  {
   "cell_type": "code",
   "execution_count": null,
   "metadata": {},
   "outputs": [],
   "source": [
    "x = 1\n",
    "type(x)"
   ]
  },
  {
   "cell_type": "code",
   "execution_count": null,
   "metadata": {},
   "outputs": [],
   "source": [
    "x = 1\n",
    "type(x)"
   ]
  },
  {
   "cell_type": "code",
   "execution_count": null,
   "metadata": {},
   "outputs": [],
   "source": [
    "x = float(x)\n",
    "type(x)\n",
    "print(x)"
   ]
  },
  {
   "cell_type": "code",
   "execution_count": null,
   "metadata": {},
   "outputs": [],
   "source": [
    "x = int(x)\n",
    "type(x)\n",
    "print(x)"
   ]
  },
  {
   "cell_type": "code",
   "execution_count": null,
   "metadata": {},
   "outputs": [],
   "source": [
    "strx = '1'\n",
    "print(strx)\n",
    "type(strx)"
   ]
  },
  {
   "cell_type": "code",
   "execution_count": null,
   "metadata": {},
   "outputs": [],
   "source": [
    "fltx = float(strx)\n",
    "print(fltx)\n",
    "type(fltx)"
   ]
  },
  {
   "cell_type": "code",
   "execution_count": null,
   "metadata": {},
   "outputs": [],
   "source": [
    "fltx = input('Enter a float value ==>')\n",
    "print(fltx)\n",
    "type(fltx)"
   ]
  },
  {
   "cell_type": "markdown",
   "metadata": {},
   "source": [
    "Assignment 2"
   ]
  },
  {
   "cell_type": "code",
   "execution_count": null,
   "metadata": {},
   "outputs": [],
   "source": [
    "name = input(\"Enter your name\")\n",
    "print(\"Hello\",name)"
   ]
  },
  {
   "cell_type": "markdown",
   "metadata": {},
   "source": [
    "Assignment 2.3\n",
    "2.3 Write a program to prompt the user for hours and rate per hour using input to compute gross pay. Use 35 hours and a rate of 2.75 per hour to test the program (the pay should be 96.25). You should use input to read a string and float() to convert the string to a number. Do not worry about error checking or bad user data."
   ]
  },
  {
   "cell_type": "code",
   "execution_count": null,
   "metadata": {},
   "outputs": [],
   "source": [
    "# Gross pay calculator\n",
    "hours = input(\"Enter hours worked:\")\n",
    "hours_flt = float(hours)\n",
    "rate = input(\"Enter hourly rate:\")\n",
    "rate_flt = float(rate)\n",
    "print(\"Pay:\", hours_flt * rate_flt)"
   ]
  },
  {
   "cell_type": "markdown",
   "metadata": {},
   "source": [
    "Assignment 3.1\n",
    "3.1 Write a program to prompt the user for hours and rate per hour using input to compute gross pay. Pay the hourly rate for the hours up to 40 and 1.5 times the hourly rate for all hours worked above 40 hours. Use 45 hours and a rate of 10.50 per hour to test the program (the pay should be 498.75). You should use input to read a string and float() to convert the string to a number. Do not worry about error checking the user input - astotale the user types numbers properly."
   ]
  },
  {
   "cell_type": "code",
   "execution_count": null,
   "metadata": {},
   "outputs": [],
   "source": [
    "# Gross pay calculator\n",
    "hours = input(\"Enter hours worked:\")\n",
    "hours_flt = float(hours)\n",
    "rate = input(\"Enter hourly rate:\")\n",
    "rate_flt = float(rate)\n",
    "if hours_flt > 40.0:\n",
    "    gross_pay = (40.0*rate_flt) + ((hours_flt - 40.0)*(rate_flt*1.5))\n",
    "else:\n",
    "    gross_pay = hours_flt*rate_flt\n",
    "print(gross_pay)"
   ]
  },
  {
   "cell_type": "markdown",
   "metadata": {},
   "source": [
    "Assignment 3.3\n",
    "3.3 Write a program to prompt for a score between 0.0 and 1.0. If the score is out of range, print an error. If the score is between 0.0 and 1.0, print a grade using the following table:\n",
    "Score Grade\n",
    ">= 0.9 A\n",
    ">= 0.8 B\n",
    ">= 0.7 C\n",
    ">= 0.6 D\n",
    "< 0.6 F\n",
    "If the user enters a value out of range, print a suitable error message and exit. For the test, enter a score of 0.85."
   ]
  },
  {
   "cell_type": "code",
   "execution_count": null,
   "metadata": {},
   "outputs": [],
   "source": [
    "# Assign grade to score\n",
    "score = input(\"Enter score:\")\n",
    "try:\n",
    "    score = float(score)\n",
    "except:\n",
    "    print('Invalid score entered')\n",
    "    quit()\n",
    "if score < 0.0 or score_flt > 1.0:\n",
    "    print('Entered score out of range (0.0 - 1.0)')\n",
    "    quit()\n",
    "elif score_flt >= 0.9:\n",
    "    grade = 'A'\n",
    "elif score_flt >= 0.8:\n",
    "    grade = 'B'\n",
    "elif score_flt >= 0.7:\n",
    "    grade = 'C'\n",
    "elif score_flt >= 0.6:\n",
    "    grade = 'D'\n",
    "elif score_flt < 0.6:\n",
    "    grade = 'F'\n",
    "print(grade)"
   ]
  },
  {
   "cell_type": "code",
   "execution_count": null,
   "metadata": {},
   "outputs": [],
   "source": [
    "# Gross pay calculator\n",
    "def computepay(hours,rate):\n",
    "    if hours > 40.0:\n",
    "        gross_pay = (40.0*rate) + ((hours - 40.0)*(rate*1.5))\n",
    "    else:\n",
    "        gross_pay = hours*rate\n",
    "    return gross_pay\n",
    "    \n",
    "hours = input(\"Enter hours worked:\")\n",
    "hours_flt = float(hours)\n",
    "rate = input(\"Enter hourly rate:\")\n",
    "rate_flt = float(rate)\n",
    "print(\"Pay:\", computepay(hours_flt,rate_flt))"
   ]
  },
  {
   "cell_type": "code",
   "execution_count": null,
   "metadata": {},
   "outputs": [],
   "source": [
    "# Assign grade to score\n",
    "def computegrade(score):\n",
    "    if score == -1.0:\n",
    "        grade = 'Invalid score entered'\n",
    "    elif score < 0.0 or score > 1.0:\n",
    "        grade = 'Entered score out of range (0.0 - 1.0)'\n",
    "    elif score >= 0.9:\n",
    "        grade = 'A'\n",
    "    elif score >= 0.8:\n",
    "        grade = 'B'\n",
    "    elif score >= 0.7:\n",
    "        grade = 'C'\n",
    "    elif score >= 0.6:\n",
    "        grade = 'D'\n",
    "    elif score < 0.6:\n",
    "        grade = 'F'\n",
    "    return(grade)\n",
    "score = input(\"Enter score:\")\n",
    "try:\n",
    "    score_flt = float(score)\n",
    "except:\n",
    "    score_flt = -1.0\n",
    "print(computegrade(score_flt))"
   ]
  },
  {
   "cell_type": "markdown",
   "metadata": {},
   "source": [
    "Assignment 4.6\n",
    "4.6 Write a program to prompt the user for hours and rate per hour using input to compute gross pay. Pay should be the normal rate for hours up to 40 and time-and-a-half for the hourly rate for all hours worked above 40 hours. Put the logic to do the computation of pay in a function called computepay() and use the function to do the computation. The function should return a value. Use 45 hours and a rate of 10.50 per hour to test the program (the pay should be 498.75). You should use input to read a string and float() to convert the string to a number. Do not worry about error checking the user input unless you want to - you can astotale the user types numbers properly. Do not name your variable total or use the total() function."
   ]
  },
  {
   "cell_type": "code",
   "execution_count": null,
   "metadata": {},
   "outputs": [],
   "source": [
    "# Gross pay calculator\n",
    "def computepay(hours,rate):\n",
    "    if hours > 40.0:\n",
    "        gross_pay = (40.0*rate) + ((hours - 40.0)*(rate*1.5))\n",
    "    else:\n",
    "        gross_pay = hours*rate\n",
    "    return gross_pay\n",
    "    \n",
    "hours = input(\"Enter hours worked:\")\n",
    "hours_flt = float(hours)\n",
    "rate = input(\"Enter hourly rate:\")\n",
    "rate_flt = float(rate)\n",
    "print(\"Pay\", computepay(hours_flt,rate_flt))"
   ]
  },
  {
   "cell_type": "markdown",
   "metadata": {},
   "source": [
    "Declare code modules needed for functions"
   ]
  },
  {
   "cell_type": "code",
   "execution_count": null,
   "metadata": {},
   "outputs": [],
   "source": [
    "import string"
   ]
  },
  {
   "cell_type": "code",
   "execution_count": null,
   "metadata": {},
   "outputs": [],
   "source": [
    "maxival = ''\n",
    "ipos = 0\n",
    "maxipos = 0\n",
    "lcletters = list(string.ascii_lowercase)\n",
    "for i in lcletters:\n",
    "    ipos = ipos + 1\n",
    "    # if maxival == '' or i > maxival:\n",
    "    if i > maxival:\n",
    "        maxival = i\n",
    "        maxipos = ipos\n",
    "print('max',maxival,'pos',maxipos)\n",
    "        "
   ]
  },
  {
   "cell_type": "code",
   "execution_count": null,
   "metadata": {},
   "outputs": [],
   "source": [
    "maxival = None\n",
    "ipos = 0\n",
    "maxipos = 0\n",
    "lcletters = list(string.ascii_lowercase)\n",
    "for i in lcletters:\n",
    "    ipos = ipos + 1\n",
    "    # if maxival is None or (maxival is not None and i > maxival):\n",
    "    if maxival is None or i > maxival:\n",
    "        maxival = i\n",
    "        maxipos = ipos\n",
    "print('max',maxival,'pos',maxipos)"
   ]
  },
  {
   "cell_type": "markdown",
   "metadata": {},
   "source": [
    "Assignment 5.2\n",
    "5.2 Write a program that repeatedly prompts a user for integer numbers until the user enters 'done'. Once 'done' is entered, print out the largest and smallest of the numbers. If the user enters anything other than a valid number catch it with a try/except and put out an appropriate message and ignore the number. Enter 7, 2, bob, 10, and 4 and match the output below."
   ]
  },
  {
   "cell_type": "code",
   "execution_count": null,
   "metadata": {},
   "outputs": [],
   "source": [
    "smallest_number = None\n",
    "largest_number = None\n",
    "while True:\n",
    "    number = input(\"Enter a number:\")\n",
    "    try:\n",
    "        number_int = int(number)\n",
    "        # if smallest_number is None:\n",
    "        #     smallest_number = number_int\n",
    "        # elif number_int < smallest_number:\n",
    "        #     smallest_number = number_int\n",
    "        if smallest_number is None or number_int < smallest_number:\n",
    "            smallest_number = number_int\n",
    "        # if largest_number is None:\n",
    "        #     largest_number = number_int\n",
    "        # elif number_int > largest_number:\n",
    "        #     largest_number = number_int\n",
    "        if largest_number is None or number_int > largest_number:\n",
    "            largest_number = number_int\n",
    "    except:\n",
    "        # if number == 'done':\n",
    "        #     break\n",
    "        # elif number != 'done':\n",
    "        #     print('Invalid input')\n",
    "        #     continue\n",
    "        if number == 'done':\n",
    "            break\n",
    "        print('Invalid input')\n",
    "        continue\n",
    "print('Maximum is',largest_number)\n",
    "print('Minimum is',smallest_number)\n",
    "        \n",
    "    "
   ]
  },
  {
   "cell_type": "code",
   "execution_count": null,
   "metadata": {},
   "outputs": [],
   "source": [
    "fruit = 'banana'\n",
    "index = -1\n",
    "cnt = 0\n",
    "while len(fruit) > 0 and cnt < len(fruit):\n",
    "    print(fruit[index])\n",
    "    index = index + -1\n",
    "    cnt = cnt + 1"
   ]
  },
  {
   "cell_type": "code",
   "execution_count": null,
   "metadata": {},
   "outputs": [],
   "source": [
    "fruit = 'banana'\n",
    "fruit[:]"
   ]
  },
  {
   "cell_type": "code",
   "execution_count": null,
   "metadata": {},
   "outputs": [],
   "source": [
    "greeting = 'Hello, world!'\n",
    "greeting = 'J' + greeting[1:]\n",
    "print(greeting)"
   ]
  },
  {
   "cell_type": "code",
   "execution_count": null,
   "metadata": {},
   "outputs": [],
   "source": [
    "def count(source_str,target_char):\n",
    "    count = 0\n",
    "    for char in source_str:\n",
    "        if char == target_char:\n",
    "            count =  count + 1\n",
    "    return count\n",
    "print(count('banana','a'))"
   ]
  },
  {
   "cell_type": "code",
   "execution_count": null,
   "metadata": {},
   "outputs": [],
   "source": [
    "help(str.count)"
   ]
  },
  {
   "cell_type": "markdown",
   "metadata": {},
   "source": [
    "count(...)\n",
    "    S.count(sub[, start[, end]]) -> int\n",
    "\n",
    "    Return the number of non-overlapping occurrences of substring sub in\n",
    "    string S[start:end].  Optional arguments start and end are\n",
    "    interpreted as in slice notation.\n"
   ]
  },
  {
   "cell_type": "code",
   "execution_count": null,
   "metadata": {},
   "outputs": [],
   "source": [
    "def count(source_str,target_char):\n",
    "    return source_str.count(target_char)\n",
    "print(count('banana','a'))"
   ]
  },
  {
   "cell_type": "code",
   "execution_count": null,
   "metadata": {},
   "outputs": [],
   "source": [
    "str = 'X-DSPAM-Confidence: 0.8475'\n",
    "pos = str.find(':') + 1\n",
    "print(float(str[pos:]))\n",
    "print(float(str[pos:].strip()))\n",
    "type(float(str[pos:]))\n"
   ]
  },
  {
   "cell_type": "code",
   "execution_count": null,
   "metadata": {},
   "outputs": [],
   "source": [
    "fhand = open('mbox.txt')\n",
    "print(fhand)"
   ]
  },
  {
   "cell_type": "code",
   "execution_count": null,
   "metadata": {},
   "outputs": [],
   "source": [
    "fhand = open('mbox-short.txt')\n",
    "count = 0\n",
    "for line in fhand:\n",
    "    print(line.rstrip())\n",
    "    count =  count + 1\n",
    "    if count >= 10:\n",
    "        break\n"
   ]
  },
  {
   "cell_type": "code",
   "execution_count": null,
   "metadata": {},
   "outputs": [],
   "source": [
    "while True:\n",
    "    fname = input('Enter the file name (or \"Quit\"): ')\n",
    "    try:\n",
    "        fhand = open(fname)\n",
    "    except:\n",
    "        if fname == 'Quit':\n",
    "            break\n",
    "        print('File cannot be opened:', fname)\n",
    "        continue\n",
    "    count = 0\n",
    "    for line in fhand:\n",
    "        if line.startswith('Subject:'):\n",
    "            count = count + 1\n",
    "    print('There were', count, 'subject lines in', fname)"
   ]
  },
  {
   "cell_type": "markdown",
   "metadata": {},
   "source": [
    "Exercise 1: Write a program to read through a file and print the contents of the\n",
    "file (line by line) all in upper case. Executing the program will look as follows:\n",
    "python shout.py\n",
    "Enter a file name: mbox-short.txt"
   ]
  },
  {
   "cell_type": "code",
   "execution_count": null,
   "metadata": {},
   "outputs": [],
   "source": [
    "while True:\n",
    "    fname = input('Enter the file name (or \"Quit\"): ')\n",
    "    try:\n",
    "        fhand = open(fname)\n",
    "    except:\n",
    "        if fname == 'Quit':\n",
    "            break\n",
    "        print('File cannot be opened:', fname)\n",
    "        continue\n",
    "    count = 0\n",
    "    for line in fhand:\n",
    "        print(line.rstrip().upper())"
   ]
  },
  {
   "cell_type": "markdown",
   "metadata": {},
   "source": [
    "Exercise 2: Write a program to prompt for a file name, and then read through\n",
    "the file and look for lines of the form:\n",
    "X-DSPAM-Confidence: 0.8475\n",
    "When you encounter a line that starts with “X-DSPAM-Confidence:” pull apart\n",
    "the line to extract the floating-point number on the line. Count these lines and\n",
    "then compute the total of the spam confidence values from these lines. When you\n",
    "reach the end of the file, print out the average spam confidence."
   ]
  },
  {
   "cell_type": "code",
   "execution_count": null,
   "metadata": {},
   "outputs": [],
   "source": [
    "while True:\n",
    "    fname = input('Enter the file name (or \"Quit\"): ')\n",
    "    try:\n",
    "        fhand = open(fname)\n",
    "    except:\n",
    "        if fname.lower() == 'quit':\n",
    "            break\n",
    "        print('File cannot be opened:', fname)\n",
    "        continue\n",
    "    count = 0\n",
    "    total = 0.0\n",
    "    for line in fhand:\n",
    "        if line.find('X-DSPAM-Confidence:') == -1:\n",
    "            continue\n",
    "        count = count + 1\n",
    "        pos = line.find(':') + 1\n",
    "        total = total + float(line[pos:].strip())\n",
    "    print('Average spam confidence:',total/float(count))"
   ]
  },
  {
   "cell_type": "markdown",
   "metadata": {},
   "source": [
    "7.1 Write a program that prompts for a file name, then opens that file and reads through the file, and print the contents of the file in upper case. Use the file words.txt to produce the output below.\n",
    "\n",
    "  "
   ]
  },
  {
   "cell_type": "code",
   "execution_count": null,
   "metadata": {},
   "outputs": [],
   "source": [
    "fname = input(\"Enter file name: \")\n",
    "fh = open(fname)\n",
    "for line in fh:\n",
    "    print(line.upper().rstrip())"
   ]
  },
  {
   "cell_type": "markdown",
   "metadata": {},
   "source": [
    "7.2 Write a program that prompts for a file name, then opens that file and reads through the file, looking for lines of the form:\n",
    "X-DSPAM-Confidence:    0.8475\n",
    "Count these lines and extract the floating point values from each of the lines and compute the average of those values and produce an output as shown below. Do not use the total() function or a variable named total in your solution.\n",
    "When you are testing below enter mbox-short.txt as the file name."
   ]
  },
  {
   "cell_type": "code",
   "execution_count": null,
   "metadata": {},
   "outputs": [],
   "source": []
  }
 ],
 "metadata": {
  "kernelspec": {
   "display_name": "condaenv",
   "language": "python",
   "name": "python3"
  },
  "language_info": {
   "codemirror_mode": {
    "name": "ipython",
    "version": 3
   },
   "file_extension": ".py",
   "mimetype": "text/x-python",
   "name": "python",
   "nbconvert_exporter": "python",
   "pygments_lexer": "ipython3",
   "version": "3.12.1"
  }
 },
 "nbformat": 4,
 "nbformat_minor": 2
}
