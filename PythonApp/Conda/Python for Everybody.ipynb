{
 "cells": [
  {
   "cell_type": "markdown",
   "metadata": {},
   "source": [
    "Python for Everybody"
   ]
  },
  {
   "cell_type": "markdown",
   "metadata": {},
   "source": [
    "Assignment 1"
   ]
  },
  {
   "cell_type": "code",
   "execution_count": null,
   "metadata": {},
   "outputs": [],
   "source": [
    "print('hello world')"
   ]
  },
  {
   "cell_type": "code",
   "execution_count": null,
   "metadata": {},
   "outputs": [],
   "source": [
    "print('hello','world')"
   ]
  },
  {
   "cell_type": "markdown",
   "metadata": {},
   "source": [
    "Data types"
   ]
  },
  {
   "cell_type": "code",
   "execution_count": null,
   "metadata": {},
   "outputs": [],
   "source": [
    "message = 'hello world'\n",
    "type(message)"
   ]
  },
  {
   "cell_type": "code",
   "execution_count": null,
   "metadata": {},
   "outputs": [],
   "source": [
    "x = 1\n",
    "type(x)"
   ]
  },
  {
   "cell_type": "code",
   "execution_count": null,
   "metadata": {},
   "outputs": [],
   "source": [
    "x = 1\n",
    "type(x)"
   ]
  },
  {
   "cell_type": "code",
   "execution_count": null,
   "metadata": {},
   "outputs": [],
   "source": [
    "x = float(x)\n",
    "type(x)\n",
    "print(x)"
   ]
  },
  {
   "cell_type": "code",
   "execution_count": null,
   "metadata": {},
   "outputs": [],
   "source": [
    "x = int(x)\n",
    "type(x)\n",
    "print(x)"
   ]
  },
  {
   "cell_type": "code",
   "execution_count": null,
   "metadata": {},
   "outputs": [],
   "source": [
    "strx = '1'\n",
    "print(strx)\n",
    "type(strx)"
   ]
  },
  {
   "cell_type": "code",
   "execution_count": null,
   "metadata": {},
   "outputs": [],
   "source": [
    "fltx = float(strx)\n",
    "print(fltx)\n",
    "type(fltx)"
   ]
  },
  {
   "cell_type": "code",
   "execution_count": null,
   "metadata": {},
   "outputs": [],
   "source": [
    "fltx = input('Enter a float value ==>')\n",
    "print(fltx)\n",
    "type(fltx)"
   ]
  },
  {
   "cell_type": "markdown",
   "metadata": {},
   "source": [
    "Assignment 2"
   ]
  },
  {
   "cell_type": "code",
   "execution_count": null,
   "metadata": {},
   "outputs": [],
   "source": [
    "name = input(\"Enter your name\")\n",
    "print(\"Hello\",name)"
   ]
  },
  {
   "cell_type": "markdown",
   "metadata": {},
   "source": [
    "Assignment 2.3\n",
    "2.3 Write a program to prompt the user for hours and rate per hour using input to compute gross pay. Use 35 hours and a rate of 2.75 per hour to test the program (the pay should be 96.25). You should use input to read a string and float() to convert the string to a number. Do not worry about error checking or bad user data."
   ]
  },
  {
   "cell_type": "code",
   "execution_count": null,
   "metadata": {},
   "outputs": [],
   "source": [
    "# Gross pay calculator\n",
    "hours = input(\"Enter hours worked:\")\n",
    "hours_flt = float(hours)\n",
    "rate = input(\"Enter hourly rate:\")\n",
    "rate_flt = float(rate)\n",
    "print(\"Pay:\", hours_flt * rate_flt)"
   ]
  },
  {
   "cell_type": "markdown",
   "metadata": {},
   "source": [
    "Assignment 3.1\n",
    "3.1 Write a program to prompt the user for hours and rate per hour using input to compute gross pay. Pay the hourly rate for the hours up to 40 and 1.5 times the hourly rate for all hours worked above 40 hours. Use 45 hours and a rate of 10.50 per hour to test the program (the pay should be 498.75). You should use input to read a string and float() to convert the string to a number. Do not worry about error checking the user input - astotale the user types numbers properly."
   ]
  },
  {
   "cell_type": "code",
   "execution_count": null,
   "metadata": {},
   "outputs": [],
   "source": [
    "# Gross pay calculator\n",
    "hours = input(\"Enter hours worked:\")\n",
    "hours_flt = float(hours)\n",
    "rate = input(\"Enter hourly rate:\")\n",
    "rate_flt = float(rate)\n",
    "if hours_flt > 40.0:\n",
    "    gross_pay = (40.0*rate_flt) + ((hours_flt - 40.0)*(rate_flt*1.5))\n",
    "else:\n",
    "    gross_pay = hours_flt*rate_flt\n",
    "print(gross_pay)"
   ]
  },
  {
   "cell_type": "markdown",
   "metadata": {},
   "source": [
    "Assignment 3.3\n",
    "3.3 Write a program to prompt for a score between 0.0 and 1.0. If the score is out of range, print an error. If the score is between 0.0 and 1.0, print a grade using the following table:\n",
    "Score Grade\n",
    ">= 0.9 A\n",
    ">= 0.8 B\n",
    ">= 0.7 C\n",
    ">= 0.6 D\n",
    "< 0.6 F\n",
    "If the user enters a value out of range, print a suitable error message and exit. For the test, enter a score of 0.85."
   ]
  },
  {
   "cell_type": "code",
   "execution_count": null,
   "metadata": {},
   "outputs": [],
   "source": [
    "# Assign grade to score\n",
    "score = input(\"Enter score:\")\n",
    "try:\n",
    "    score = float(score)\n",
    "except:\n",
    "    print('Invalid score entered')\n",
    "    quit()\n",
    "if score < 0.0 or score_flt > 1.0:\n",
    "    print('Entered score out of range (0.0 - 1.0)')\n",
    "    quit()\n",
    "elif score_flt >= 0.9:\n",
    "    grade = 'A'\n",
    "elif score_flt >= 0.8:\n",
    "    grade = 'B'\n",
    "elif score_flt >= 0.7:\n",
    "    grade = 'C'\n",
    "elif score_flt >= 0.6:\n",
    "    grade = 'D'\n",
    "elif score_flt < 0.6:\n",
    "    grade = 'F'\n",
    "print(grade)"
   ]
  },
  {
   "cell_type": "code",
   "execution_count": null,
   "metadata": {},
   "outputs": [],
   "source": [
    "# Gross pay calculator\n",
    "def computepay(hours,rate):\n",
    "    if hours > 40.0:\n",
    "        gross_pay = (40.0*rate) + ((hours - 40.0)*(rate*1.5))\n",
    "    else:\n",
    "        gross_pay = hours*rate\n",
    "    return gross_pay\n",
    "    \n",
    "hours = input(\"Enter hours worked:\")\n",
    "hours_flt = float(hours)\n",
    "rate = input(\"Enter hourly rate:\")\n",
    "rate_flt = float(rate)\n",
    "print(\"Pay:\", computepay(hours_flt,rate_flt))"
   ]
  },
  {
   "cell_type": "code",
   "execution_count": null,
   "metadata": {},
   "outputs": [],
   "source": [
    "# Assign grade to score\n",
    "def computegrade(score):\n",
    "    if score == -1.0:\n",
    "        grade = 'Invalid score entered'\n",
    "    elif score < 0.0 or score > 1.0:\n",
    "        grade = 'Entered score out of range (0.0 - 1.0)'\n",
    "    elif score >= 0.9:\n",
    "        grade = 'A'\n",
    "    elif score >= 0.8:\n",
    "        grade = 'B'\n",
    "    elif score >= 0.7:\n",
    "        grade = 'C'\n",
    "    elif score >= 0.6:\n",
    "        grade = 'D'\n",
    "    elif score < 0.6:\n",
    "        grade = 'F'\n",
    "    return(grade)\n",
    "score = input(\"Enter score:\")\n",
    "try:\n",
    "    score_flt = float(score)\n",
    "except:\n",
    "    score_flt = -1.0\n",
    "print(computegrade(score_flt))"
   ]
  },
  {
   "cell_type": "markdown",
   "metadata": {},
   "source": [
    "Assignment 4.6\n",
    "4.6 Write a program to prompt the user for hours and rate per hour using input to compute gross pay. Pay should be the normal rate for hours up to 40 and time-and-a-half for the hourly rate for all hours worked above 40 hours. Put the logic to do the computation of pay in a function called computepay() and use the function to do the computation. The function should return a value. Use 45 hours and a rate of 10.50 per hour to test the program (the pay should be 498.75). You should use input to read a string and float() to convert the string to a number. Do not worry about error checking the user input unless you want to - you can astotale the user types numbers properly. Do not name your variable total or use the total() function."
   ]
  },
  {
   "cell_type": "code",
   "execution_count": null,
   "metadata": {},
   "outputs": [],
   "source": [
    "# Gross pay calculator\n",
    "def computepay(hours,rate):\n",
    "    if hours > 40.0:\n",
    "        gross_pay = (40.0*rate) + ((hours - 40.0)*(rate*1.5))\n",
    "    else:\n",
    "        gross_pay = hours*rate\n",
    "    return gross_pay\n",
    "    \n",
    "hours = input(\"Enter hours worked:\")\n",
    "hours_flt = float(hours)\n",
    "rate = input(\"Enter hourly rate:\")\n",
    "rate_flt = float(rate)\n",
    "print(\"Pay\", computepay(hours_flt,rate_flt))"
   ]
  },
  {
   "cell_type": "markdown",
   "metadata": {},
   "source": [
    "Declare code modules needed for functions"
   ]
  },
  {
   "cell_type": "code",
   "execution_count": null,
   "metadata": {},
   "outputs": [],
   "source": [
    "import string"
   ]
  },
  {
   "cell_type": "code",
   "execution_count": null,
   "metadata": {},
   "outputs": [],
   "source": [
    "maxival = ''\n",
    "ipos = 0\n",
    "maxipos = 0\n",
    "lcletters = list(string.ascii_lowercase)\n",
    "for i in lcletters:\n",
    "    ipos = ipos + 1\n",
    "    # if maxival == '' or i > maxival:\n",
    "    if i > maxival:\n",
    "        maxival = i\n",
    "        maxipos = ipos\n",
    "print('max',maxival,'pos',maxipos)\n",
    "        "
   ]
  },
  {
   "cell_type": "code",
   "execution_count": null,
   "metadata": {},
   "outputs": [],
   "source": [
    "maxival = None\n",
    "ipos = 0\n",
    "maxipos = 0\n",
    "lcletters = list(string.ascii_lowercase)\n",
    "for i in lcletters:\n",
    "    ipos = ipos + 1\n",
    "    # if maxival is None or (maxival is not None and i > maxival):\n",
    "    if maxival is None or i > maxival:\n",
    "        maxival = i\n",
    "        maxipos = ipos\n",
    "print('max',maxival,'pos',maxipos)"
   ]
  },
  {
   "cell_type": "markdown",
   "metadata": {},
   "source": [
    "Assignment 5.2\n",
    "5.2 Write a program that repeatedly prompts a user for integer numbers until the user enters 'done'. Once 'done' is entered, print out the largest and smallest of the numbers. If the user enters anything other than a valid number catch it with a try/except and put out an appropriate message and ignore the number. Enter 7, 2, bob, 10, and 4 and match the output below."
   ]
  },
  {
   "cell_type": "code",
   "execution_count": null,
   "metadata": {},
   "outputs": [],
   "source": [
    "smallest_number = None\n",
    "largest_number = None\n",
    "while True:\n",
    "    number = input(\"Enter a number:\")\n",
    "    try:\n",
    "        number_int = int(number)\n",
    "        # if smallest_number is None:\n",
    "        #     smallest_number = number_int\n",
    "        # elif number_int < smallest_number:\n",
    "        #     smallest_number = number_int\n",
    "        if smallest_number is None or number_int < smallest_number:\n",
    "            smallest_number = number_int\n",
    "        # if largest_number is None:\n",
    "        #     largest_number = number_int\n",
    "        # elif number_int > largest_number:\n",
    "        #     largest_number = number_int\n",
    "        if largest_number is None or number_int > largest_number:\n",
    "            largest_number = number_int\n",
    "    except:\n",
    "        # if number == 'done':\n",
    "        #     break\n",
    "        # elif number != 'done':\n",
    "        #     print('Invalid input')\n",
    "        #     continue\n",
    "        if number == 'done':\n",
    "            break\n",
    "        print('Invalid input')\n",
    "        continue\n",
    "print('Maximum is',largest_number)\n",
    "print('Minimum is',smallest_number)\n",
    "        \n",
    "    "
   ]
  },
  {
   "cell_type": "code",
   "execution_count": null,
   "metadata": {},
   "outputs": [],
   "source": [
    "fruit = 'banana'\n",
    "index = -1\n",
    "cnt = 0\n",
    "while len(fruit) > 0 and cnt < len(fruit):\n",
    "    print(fruit[index])\n",
    "    index = index + -1\n",
    "    cnt = cnt + 1"
   ]
  },
  {
   "cell_type": "code",
   "execution_count": null,
   "metadata": {},
   "outputs": [],
   "source": [
    "fruit = 'banana'\n",
    "fruit[:]"
   ]
  },
  {
   "cell_type": "code",
   "execution_count": null,
   "metadata": {},
   "outputs": [],
   "source": [
    "greeting = 'Hello, world!'\n",
    "greeting = 'J' + greeting[1:]\n",
    "print(greeting)"
   ]
  },
  {
   "cell_type": "code",
   "execution_count": null,
   "metadata": {},
   "outputs": [],
   "source": [
    "def count(source_str,target_char):\n",
    "    count = 0\n",
    "    for char in source_str:\n",
    "        if char == target_char:\n",
    "            count =  count + 1\n",
    "    return count\n",
    "print(count('banana','a'))"
   ]
  },
  {
   "cell_type": "code",
   "execution_count": null,
   "metadata": {},
   "outputs": [],
   "source": [
    "help(str.count)"
   ]
  },
  {
   "cell_type": "markdown",
   "metadata": {},
   "source": [
    "count(...)\n",
    "    S.count(sub[, start[, end]]) -> int\n",
    "\n",
    "    Return the number of non-overlapping occurrences of substring sub in\n",
    "    string S[start:end].  Optional arguments start and end are\n",
    "    interpreted as in slice notation.\n"
   ]
  },
  {
   "cell_type": "code",
   "execution_count": null,
   "metadata": {},
   "outputs": [],
   "source": [
    "def count(source_str,target_char):\n",
    "    return source_str.count(target_char)\n",
    "print(count('banana','a'))"
   ]
  },
  {
   "cell_type": "code",
   "execution_count": null,
   "metadata": {},
   "outputs": [],
   "source": [
    "str = 'X-DSPAM-Confidence: 0.8475'\n",
    "pos = str.find(':') + 1\n",
    "print(float(str[pos:]))\n",
    "print(float(str[pos:].strip()))\n",
    "type(float(str[pos:]))\n"
   ]
  },
  {
   "cell_type": "code",
   "execution_count": null,
   "metadata": {},
   "outputs": [],
   "source": [
    "fhand = open('mbox.txt')\n",
    "print(fhand)"
   ]
  },
  {
   "cell_type": "code",
   "execution_count": null,
   "metadata": {},
   "outputs": [],
   "source": [
    "fhand = open('mbox-short.txt')\n",
    "count = 0\n",
    "for line in fhand:\n",
    "    print(line.rstrip())\n",
    "    count =  count + 1\n",
    "    if count >= 10:\n",
    "        break\n"
   ]
  },
  {
   "cell_type": "code",
   "execution_count": null,
   "metadata": {},
   "outputs": [],
   "source": [
    "while True:\n",
    "    fname = input('Enter the file name (or \"Quit\"): ')\n",
    "    try:\n",
    "        fhand = open(fname)\n",
    "    except:\n",
    "        if fname == 'Quit':\n",
    "            break\n",
    "        print('File cannot be opened:', fname)\n",
    "        continue\n",
    "    count = 0\n",
    "    for line in fhand:\n",
    "        if line.startswith('Subject:'):\n",
    "            count = count + 1\n",
    "    print('There were', count, 'subject lines in', fname)"
   ]
  },
  {
   "cell_type": "markdown",
   "metadata": {},
   "source": [
    "Exercise 1: Write a program to read through a file and print the contents of the\n",
    "file (line by line) all in upper case. Executing the program will look as follows:\n",
    "python shout.py\n",
    "Enter a file name: mbox-short.txt"
   ]
  },
  {
   "cell_type": "code",
   "execution_count": null,
   "metadata": {},
   "outputs": [],
   "source": [
    "while True:\n",
    "    fname = input('Enter the file name (or \"Quit\"): ')\n",
    "    try:\n",
    "        fhand = open(fname)\n",
    "    except:\n",
    "        if fname == 'Quit':\n",
    "            break\n",
    "        print('File cannot be opened:', fname)\n",
    "        continue\n",
    "    count = 0\n",
    "    for line in fhand:\n",
    "        print(line.rstrip().upper())"
   ]
  },
  {
   "cell_type": "markdown",
   "metadata": {},
   "source": [
    "Exercise 2: Write a program to prompt for a file name, and then read through\n",
    "the file and look for lines of the form:\n",
    "X-DSPAM-Confidence: 0.8475\n",
    "When you encounter a line that starts with “X-DSPAM-Confidence:” pull apart\n",
    "the line to extract the floating-point number on the line. Count these lines and\n",
    "then compute the total of the spam confidence values from these lines. When you\n",
    "reach the end of the file, print out the average spam confidence."
   ]
  },
  {
   "cell_type": "code",
   "execution_count": null,
   "metadata": {},
   "outputs": [],
   "source": [
    "while True:\n",
    "    fname = input('Enter the file name (or \"Quit\"): ')\n",
    "    try:\n",
    "        fhand = open(fname)\n",
    "    except:\n",
    "        if fname.lower() == 'quit':\n",
    "            break\n",
    "        print('File cannot be opened:', fname)\n",
    "        continue\n",
    "    count = 0\n",
    "    total = 0.0\n",
    "    for line in fhand:\n",
    "        if line.find('X-DSPAM-Confidence:') == -1:\n",
    "            continue\n",
    "        count = count + 1\n",
    "        pos = line.find(':') + 1\n",
    "        total = total + float(line[pos:].strip())\n",
    "    print('Average spam confidence:',total/float(count))"
   ]
  },
  {
   "cell_type": "markdown",
   "metadata": {},
   "source": [
    "7.1 Write a program that prompts for a file name, then opens that file and reads through the file, and print the contents of the file in upper case. Use the file words.txt to produce the output below.\n",
    "\n",
    "  "
   ]
  },
  {
   "cell_type": "code",
   "execution_count": null,
   "metadata": {},
   "outputs": [],
   "source": [
    "fname = input(\"Enter file name: \")\n",
    "fh = open(fname)\n",
    "for line in fh:\n",
    "    print(line.upper().rstrip())"
   ]
  },
  {
   "cell_type": "markdown",
   "metadata": {},
   "source": [
    "7.2 Write a program that prompts for a file name, then opens that file and reads through the file, looking for lines of the form:\n",
    "X-DSPAM-Confidence:    0.8475\n",
    "Count these lines and extract the floating point values from each of the lines and compute the average of those values and produce an output as shown below. Do not use the total() function or a variable named total in your solution.\n",
    "When you are testing below enter mbox-short.txt as the file name."
   ]
  },
  {
   "cell_type": "markdown",
   "metadata": {},
   "source": [
    "Exercise 1: Write a function called chop that takes a list and modifies it, removing\n",
    "the first and last elements, and returns None. Then write a function called middle\n",
    "that takes a list and returns a new list that contains all but the first and last\n",
    "elements"
   ]
  },
  {
   "cell_type": "code",
   "execution_count": null,
   "metadata": {},
   "outputs": [],
   "source": [
    "def chop(t):\n",
    "    del t[0]\n",
    "    last_element = len(t) - 1\n",
    "    del t[last_element]\n",
    "    return None\n",
    "t = [1,2,3,4,5]\n",
    "print(t)\n",
    "chop(t)\n",
    "print(t)"
   ]
  },
  {
   "cell_type": "code",
   "execution_count": null,
   "metadata": {},
   "outputs": [],
   "source": [
    "def middle(t):\n",
    "    return(t[1:-1])\n",
    "t = [1,2,3,4,5]\n",
    "print(t)\n",
    "m = middle(t)\n",
    "print(m)"
   ]
  },
  {
   "cell_type": "code",
   "execution_count": null,
   "metadata": {},
   "outputs": [],
   "source": [
    "fhand = open('my-mbox-short.txt')\n",
    "for line in fhand:\n",
    "    words = line.split()\n",
    "    # print('Debug:', words, len(words))\n",
    "    if len(words) == 0 : continue\n",
    "    if words[0] != 'From' : continue\n",
    "    if len(words) < 3 : continue\n",
    "    print(words[2])"
   ]
  },
  {
   "cell_type": "code",
   "execution_count": null,
   "metadata": {},
   "outputs": [],
   "source": [
    "fhand = open('my-mbox-short.txt')\n",
    "for line in fhand:\n",
    "    words = line.split()\n",
    "    # print('Debug:', words, len(words))\n",
    "    if len(words) == 0 or words[0] != 'From' or len(words) < 3 : continue\n",
    "    print(words[2])"
   ]
  },
  {
   "cell_type": "code",
   "execution_count": null,
   "metadata": {},
   "outputs": [],
   "source": [
    "while True:\n",
    "    fname = input('Enter file: (or \"Quit\"): ')\n",
    "    try:\n",
    "        fhand = open(fname)\n",
    "    except:\n",
    "        if fname.lower() == 'quit':\n",
    "            break\n",
    "        print('File cannot be opened:', fname)\n",
    "        continue\n",
    "    unique_words = list()\n",
    "    for line in fhand:\n",
    "        words = line.split()\n",
    "        for item in words:\n",
    "            if item in unique_words:\n",
    "                continue\n",
    "            unique_words.append(item)\n",
    "    if unique_words:\n",
    "        unique_words.sort()\n",
    "        print(unique_words)"
   ]
  },
  {
   "cell_type": "code",
   "execution_count": null,
   "metadata": {},
   "outputs": [],
   "source": [
    "while True:\n",
    "    fname = input('Enter a file name: (or \"Quit\"): ')\n",
    "    try:\n",
    "        fhand = open(fname)\n",
    "    except:\n",
    "        if fname.lower() == 'quit':\n",
    "            break\n",
    "        print('File cannot be opened:', fname)\n",
    "        continue\n",
    "    count = 0\n",
    "    for line in fhand:\n",
    "        if not line.startswith('From '):\n",
    "            continue\n",
    "        count = count + 1\n",
    "        words = line.split()\n",
    "        print(words[1])\n",
    "    # print('There were',count,'lines in the file with From as the first word')\n",
    "    print(f'There were {count} lines in the file with From as the first word')"
   ]
  },
  {
   "cell_type": "code",
   "execution_count": null,
   "metadata": {},
   "outputs": [],
   "source": [
    "numbers = []\n",
    "while True:\n",
    "    number = input(\"Enter a number:\")\n",
    "    try:\n",
    "        number_int = int(number)\n",
    "        if number_int not in numbers:\n",
    "            numbers.append(number_int)\n",
    "        continue\n",
    "    except:\n",
    "        if number == 'done':\n",
    "            break\n",
    "        print('Invalid input')\n",
    "        continue\n",
    "print('Maximum:',max(numbers))\n",
    "print('Minimum:',min(numbers))"
   ]
  },
  {
   "cell_type": "markdown",
   "metadata": {},
   "source": [
    "8.4 Open the file romeo.txt and read it line by line. For each line, split the line into a list of words using the split() method. The program should build a list of words. For each word on each line check to see if the word is already in the list and if not append it to the list. When the program completes, sort and print the resulting words in python sort() order as shown in the desired output.\n",
    "\n",
    "  "
   ]
  },
  {
   "cell_type": "code",
   "execution_count": null,
   "metadata": {},
   "outputs": [],
   "source": [
    "while True:\n",
    "    fname = input('Enter file: (or \"Quit\"): ')\n",
    "    try:\n",
    "        fhand = open(fname)\n",
    "    except:\n",
    "        if fname.lower() == 'quit':\n",
    "            break\n",
    "        print('File cannot be opened:', fname)\n",
    "        continue\n",
    "    unique_words = []\n",
    "    for line in fhand:\n",
    "        line = line.rstrip()\n",
    "        words = line.split()\n",
    "        for item in words:\n",
    "            if item in unique_words:\n",
    "                continue\n",
    "            unique_words.append(item)\n",
    "    if unique_words:\n",
    "        unique_words.sort()\n",
    "        print(unique_words)"
   ]
  },
  {
   "cell_type": "markdown",
   "metadata": {},
   "source": [
    "8.5 Open the file mbox-short.txt and read it line by line. When you find a line that starts with 'From ' like the following line:\n",
    "From stephen.marquard@uct.ac.za Sat Jan  5 09:14:16 2008\n",
    "You will parse the From line using split() and print out the second word in the line (i.e. the entire address of the person who sent the message). Then print out a count at the end.\n",
    "Hint: make sure not to include the lines that start with 'From:'. Also look at the last line of the sample output to see how to print the count."
   ]
  },
  {
   "cell_type": "code",
   "execution_count": null,
   "metadata": {},
   "outputs": [],
   "source": [
    "while True:\n",
    "    fname = input('Enter a file name: (or \"Quit\"): ')\n",
    "    try:\n",
    "        fhand = open(fname)\n",
    "    except:\n",
    "        if fname.lower() == 'quit':\n",
    "            break\n",
    "        print('File cannot be opened:', fname)\n",
    "        continue\n",
    "    count = 0\n",
    "    for line in fhand:\n",
    "        line = line.rstrip()\n",
    "        if not line.startswith('From '):\n",
    "            continue\n",
    "        count = count + 1\n",
    "        words = line.split()\n",
    "        print(words[1])\n",
    "    # print('There were',count,'lines in the file with From as the first word')\n",
    "    print(f'There were {count} lines in the file with From as the first word')"
   ]
  },
  {
   "cell_type": "markdown",
   "metadata": {},
   "source": [
    "Exercise 1:\n",
    "\n",
    "Write a program that reads the words in words.txt and stores them as keys in a dictionary. It doesn’t matter what the values are. Then you can use the in operator as a fast way to check whether a string is in the dictionary."
   ]
  },
  {
   "cell_type": "code",
   "execution_count": null,
   "metadata": {},
   "outputs": [],
   "source": [
    "while True:\n",
    "    fname = input('Enter file: (or \"Quit\"): ')\n",
    "    try:\n",
    "        fhand = open(fname)\n",
    "    except:\n",
    "        if fname.lower() == 'quit':\n",
    "            break\n",
    "        print('File cannot be opened:', fname)\n",
    "        continue\n",
    "    unique_words = dict()\n",
    "    unique_word_counter = 0\n",
    "    for line in fhand:\n",
    "        line = line.rstrip()\n",
    "        words = line.split()\n",
    "        for item in words:\n",
    "            if item in unique_words:\n",
    "                continue\n",
    "            unique_word_counter = unique_word_counter + 1\n",
    "            unique_words[item] = unique_word_counter\n",
    "    print(unique_words)"
   ]
  },
  {
   "cell_type": "code",
   "execution_count": null,
   "metadata": {},
   "outputs": [],
   "source": [
    "while True:\n",
    "    fname = input('Enter file: (or \"Quit\"): ')\n",
    "    try:\n",
    "        fhand = open(fname)\n",
    "    except:\n",
    "        if fname.lower() == 'quit':\n",
    "            break\n",
    "        print('File cannot be opened:', fname)\n",
    "        continue\n",
    "    unique_words = dict()\n",
    "    # unique_word_counter = 0\n",
    "    for line in fhand:\n",
    "        line = line.rstrip()\n",
    "        words = line.split()\n",
    "        for word in words:\n",
    "            item = word.lower()\n",
    "            # if item in unique_words:\n",
    "            #     continue\n",
    "            # unique_word_counter = unique_word_counter + 1\n",
    "            # unique_words[item] = unique_word_counter\n",
    "            unique_words[item] = unique_words.get(item,0) + 1\n",
    "    print(unique_words)"
   ]
  },
  {
   "cell_type": "code",
   "execution_count": null,
   "metadata": {},
   "outputs": [],
   "source": [
    "while True:\n",
    "    fname = input('Enter file: (or \"Quit\"): ')\n",
    "    try:\n",
    "        fhand = open(fname)\n",
    "    except:\n",
    "        if fname.lower() == 'quit':\n",
    "            break\n",
    "        print('File cannot be opened:', fname)\n",
    "        continue\n",
    "    unique_words = dict()\n",
    "    # unique_word_counter = 0\n",
    "    for line in fhand:\n",
    "        line = line.rstrip()\n",
    "        words = line.split()\n",
    "        for item in words:\n",
    "            # item = word.lower()\n",
    "            # if item in unique_words:\n",
    "            #     continue\n",
    "            # unique_word_counter = unique_word_counter + 1\n",
    "            # unique_words[item] = unique_word_counter\n",
    "            unique_words[item] = unique_words.get(item,0) + 1\n",
    "    print(unique_words)"
   ]
  },
  {
   "cell_type": "markdown",
   "metadata": {},
   "source": [
    "Exercise 2: Write a program that categorizes each mail message by which day of\n",
    "the week the commit was done. To do this look for lines that start with “From”,\n",
    "then look for the third word and keep a running count of each of the days of the\n",
    "week. At the end of the program print out the contents of your dictionary (order\n",
    "does not matter)."
   ]
  },
  {
   "cell_type": "code",
   "execution_count": null,
   "metadata": {},
   "outputs": [],
   "source": [
    "while True:\n",
    "    fname = input('Enter a file name: (or \"Quit\"): ')\n",
    "    try:\n",
    "        fhand = open(fname)\n",
    "    except:\n",
    "        if fname.lower() == 'quit':\n",
    "            break\n",
    "        print('File cannot be opened:', fname)\n",
    "        continue\n",
    "    dow = dict()\n",
    "    for line in fhand:\n",
    "        line = line.rstrip()\n",
    "        if not line.startswith('From '):\n",
    "            continue\n",
    "        words = line.split()\n",
    "        if len(words) < 3 : continue\n",
    "        dow[words[2]] = dow.get(words[2],0) + 1\n",
    "    print(dow)\n",
    "    lst =  list(dow.keys())\n",
    "    lst.sort()\n",
    "    for key in lst:\n",
    "        print(key, dow[key])"
   ]
  },
  {
   "cell_type": "markdown",
   "metadata": {},
   "source": [
    "Exercise 3: Write a program to read through a mail log, build a histogram using\n",
    "a dictionary to count how many messages have come from each email address, and\n",
    "print the dictionary."
   ]
  },
  {
   "cell_type": "code",
   "execution_count": null,
   "metadata": {},
   "outputs": [],
   "source": [
    "while True:\n",
    "    fname = input('Enter a file name: (or \"Quit\"): ')\n",
    "    try:\n",
    "        fhand = open(fname)\n",
    "    except:\n",
    "        if fname.lower() == 'quit':\n",
    "            break\n",
    "        print('File cannot be opened:', fname)\n",
    "        continue\n",
    "    address = dict()\n",
    "    for line in fhand:\n",
    "        line = line.rstrip()\n",
    "        if not line.startswith('From '):\n",
    "            continue\n",
    "        words = line.split()\n",
    "        if len(words) < 2 : continue\n",
    "        address[words[1]] = address.get(words[1],0) + 1\n",
    "    print(address)"
   ]
  },
  {
   "cell_type": "markdown",
   "metadata": {},
   "source": [
    "Exercise 4: Add code to the above program to figure out who has the most\n",
    "messages in the file. After all the data has been read and the dictionary has\n",
    "been created, look through the dictionary using a maximum loop (see Chapter 5:\n",
    "Maximum and minimum loops) to find who has the most messages and print how\n",
    "many messages the person has.\n",
    "Enter a file name: mbox-short.txt\n",
    "cwen@iupui.edu 5\n",
    "Enter a file name: mbox.txt\n",
    "zqian@umich.edu 195"
   ]
  },
  {
   "cell_type": "code",
   "execution_count": null,
   "metadata": {},
   "outputs": [],
   "source": [
    "while True:\n",
    "    fname = input('Enter a file name: (or \"Quit\"): ')\n",
    "    try:\n",
    "        fhand = open(fname)\n",
    "    except:\n",
    "        if fname.lower() == 'quit':\n",
    "            break\n",
    "        print('File cannot be opened:', fname)\n",
    "        continue\n",
    "    address = dict()\n",
    "    for line in fhand:\n",
    "        line = line.rstrip()\n",
    "        if not line.startswith('From '):\n",
    "            continue\n",
    "        words = line.split()\n",
    "        if len(words) < 2 : continue\n",
    "        address[words[1]] = address.get(words[1],0) + 1\n",
    "    max_key = None\n",
    "    max_key_value = 0\n",
    "    for key in address:\n",
    "        if address[key] > max_key_value:\n",
    "            max_key =  key\n",
    "            max_key_value =  address[key]        \n",
    "    print(max_key, address[max_key])"
   ]
  },
  {
   "cell_type": "markdown",
   "metadata": {},
   "source": [
    "Exercise 5: This program records the domain name (instead of the address) where\n",
    "the message was sent from instead of who the mail came from (i.e., the whole email\n",
    "address). At the end of the program, print out the contents of your dictionary.\n"
   ]
  },
  {
   "cell_type": "code",
   "execution_count": null,
   "metadata": {},
   "outputs": [],
   "source": [
    "while True:\n",
    "    fname = input('Enter a file name: (or \"Quit\"): ')\n",
    "    try:\n",
    "        fhand = open(fname)\n",
    "    except:\n",
    "        if fname.lower() == 'quit':\n",
    "            break\n",
    "        print('File cannot be opened:', fname)\n",
    "        continue\n",
    "    domains = dict()\n",
    "    for line in fhand:\n",
    "        line = line.rstrip()\n",
    "        if not line.startswith('From '):\n",
    "            continue\n",
    "        words = line.split()\n",
    "        if len(words) < 2: continue\n",
    "        address = words[1]\n",
    "        if address.find('@') == -1: continue\n",
    "        apos = address.find('@') + 1\n",
    "        spos = address.find(' ',apos)\n",
    "        domains[address[apos:spos]] = domains.get(address[apos:spos],0) + 1  \n",
    "    print(domains)"
   ]
  },
  {
   "cell_type": "code",
   "execution_count": null,
   "metadata": {},
   "outputs": [],
   "source": [
    "while True:\n",
    "    fname = input('Enter a file name: (or \"Quit\"): ')\n",
    "    try:\n",
    "        fhand = open(fname)\n",
    "    except:\n",
    "        if fname.lower() == 'quit':\n",
    "            break\n",
    "        print('File cannot be opened:', fname)\n",
    "        continue\n",
    "    domains = dict()\n",
    "    for line in fhand:\n",
    "        line = line.rstrip()\n",
    "        if not line.startswith('From '):\n",
    "            continue\n",
    "        words = line.split()\n",
    "        if len(words) < 2: continue\n",
    "        if words[1].find('@') == -1: continue\n",
    "        apos = words[1].find('@') + 1\n",
    "        spos = words[1].find(' ',apos)\n",
    "        domains[words[1][apos:spos]] = domains.get(words[1][apos:spos],0) + 1  \n",
    "    print(domains)"
   ]
  },
  {
   "cell_type": "markdown",
   "metadata": {},
   "source": [
    "9.4 Write a program to read through the mbox-short.txt and figure out who has sent the greatest number of mail messages. The program looks for 'From ' lines and takes the second word of those lines as the person who sent the mail. The program creates a Python dictionary that maps the sender's mail address to a count of the number of times they appear in the file. After the dictionary is produced, the program reads through the dictionary using a maximum loop to find the most prolific committer."
   ]
  },
  {
   "cell_type": "code",
   "execution_count": null,
   "metadata": {},
   "outputs": [],
   "source": [
    "while True:\n",
    "    fname = input('Enter a file name: (or \"Quit\"): ')\n",
    "    try:\n",
    "        fhand = open(fname)\n",
    "    except:\n",
    "        if fname.lower() == 'quit':\n",
    "            break\n",
    "        print('File cannot be opened:', fname)\n",
    "        continue\n",
    "    address = dict()\n",
    "    for line in fhand:\n",
    "        line = line.rstrip()\n",
    "        if not line.startswith('From '):\n",
    "            continue\n",
    "        words = line.split()\n",
    "        if len(words) < 2 : continue\n",
    "        address[words[1]] = address.get(words[1],0) + 1\n",
    "    max_key = None\n",
    "    max_key_value = None\n",
    "    for k,v in address.items():\n",
    "        if max_key_value is None or v > max_key_value:\n",
    "            max_key =  k\n",
    "            max_key_value =  v        \n",
    "    print(max_key, address[max_key])"
   ]
  },
  {
   "cell_type": "markdown",
   "metadata": {},
   "source": [
    "Exercise 1: Revise a previous program as follows: Read and parse the “From”\n",
    "lines and pull out the addresses from the line. Count the number of messages from\n",
    "each person using a dictionary.\n",
    "After all the data has been read, print the person with the most commits by\n",
    "creating a list of (count, email) tuples from the dictionary. Then sort the list in\n",
    "reverse order and print out the person who has the most commits."
   ]
  },
  {
   "cell_type": "code",
   "execution_count": null,
   "metadata": {},
   "outputs": [],
   "source": [
    "while True:\n",
    "    fname = input('Enter a file name: (or \"Quit\"): ')\n",
    "    try:\n",
    "        fhand = open(fname)\n",
    "    except:\n",
    "        if fname.lower() == 'quit':\n",
    "            break\n",
    "        print('File cannot be opened:', fname)\n",
    "        continue\n",
    "    address = dict()\n",
    "    for line in fhand:\n",
    "        line = line.rstrip()\n",
    "        if not line.startswith('From '):\n",
    "            continue\n",
    "        words = line.split()\n",
    "        if len(words) < 2 : continue\n",
    "        address[words[1]] = address.get(words[1],0) + 1\n",
    "    address_list = [(v,k) for k,v in address.items()]\n",
    "    # address_list = []\n",
    "    # for k,v in address.items():\n",
    "    #     address_list.append((v,k))\n",
    "    address_list.sort(reverse=True)\n",
    "    print(address_list[0][1])\n",
    "    print(f'Address {address_list[0][1]} has {address_list[0][0]} commits in file {fname}')"
   ]
  },
  {
   "cell_type": "markdown",
   "metadata": {},
   "source": [
    "Exercise 2: This program counts the distribution of the hour of the day for each\n",
    "of the messages. You can pull the hour from the “From” line by finding the time\n",
    "string and then splitting that string into parts using the colon character. Once\n",
    "you have accumulated the counts for each hour, print out the counts, one per line,\n",
    "sorted by hour as shown below.\n",
    "Sample Line:\n",
    "From stephen.marquard@uct.ac.za Sat Jan 5 09:14:16 2008"
   ]
  },
  {
   "cell_type": "code",
   "execution_count": null,
   "metadata": {},
   "outputs": [],
   "source": [
    "while True:\n",
    "    fname = input('Enter a file name: (or \"Quit\"): ')\n",
    "    try:\n",
    "        fhand = open(fname)\n",
    "    except:\n",
    "        if fname.lower() == 'quit':\n",
    "            break\n",
    "        print('File cannot be opened:', fname)\n",
    "        continue\n",
    "    hours = dict()\n",
    "    for line in fhand:\n",
    "        line = line.rstrip()\n",
    "        if not line.startswith('From '):\n",
    "            continue\n",
    "        words = line.split()\n",
    "        if len(words) < 6: continue\n",
    "        if words[5].find(':') == -1: continue\n",
    "        time = words[5].split(':')\n",
    "        hours[time[0]] = hours.get(time[0],0) + 1\n",
    "    print(hours)\n",
    "    hours_list = sorted(hours.items())\n",
    "    for k,v in hours_list:\n",
    "        print(k,v)"
   ]
  },
  {
   "cell_type": "markdown",
   "metadata": {},
   "source": [
    "Exercise 3: Write a program that reads a file and prints the letters in decreasing\n",
    "order of frequency.\n",
    "Your program should convert all the input to lower case and only count the letters\n",
    "a-z. Your program should not count spaces, digits, punctuation, or anything other\n",
    "than the letters a-z. Find text samples from several different languages and see\n",
    "how letter frequency varies between languages. Compare your results with the\n",
    "tables at https://wikipedia.org/wiki/Letter_frequencies.\n"
   ]
  },
  {
   "cell_type": "code",
   "execution_count": null,
   "metadata": {},
   "outputs": [],
   "source": [
    "import string\n",
    "\n",
    "while True:\n",
    "    fname = input('Enter file: (or \"Quit\"): ')\n",
    "    try:\n",
    "        fhand = open(fname)\n",
    "    except:\n",
    "        if fname.lower() == 'quit':\n",
    "            break\n",
    "        print('File cannot be opened:', fname)\n",
    "        continue\n",
    "    unique_letters = dict()\n",
    "    # unique_word_counter = 0\n",
    "    for line in fhand:\n",
    "        line = \"\".join(line.split()).lower().rstrip().translate(str.maketrans('', '', string.punctuation))\n",
    "        # print(line)\n",
    "        for letter in line:\n",
    "            if letter < 'a' or letter > 'z': continue\n",
    "            unique_letters[letter] = unique_letters.get(letter,0) + 1\n",
    "    print(unique_letters)\n",
    "    unique_letters_list = sorted([(v,k) for k,v in unique_letters.items()],reverse=True)\n",
    "    for frequency, letter in unique_letters_list:\n",
    "        print(f'Letter {letter} occurred {frequency} times in the file {fname}')"
   ]
  },
  {
   "cell_type": "markdown",
   "metadata": {},
   "source": [
    "10.2 Write a program to read through the mbox-short.txt and figure out the distribution by hour of the day for each of the messages. You can pull the hour out from the 'From ' line by finding the time and then splitting the string a second time using a colon.\n",
    "From stephen.marquard@uct.ac.za Sat Jan  5 09:14:16 2008\n",
    "Once you have accumulated the counts for each hour, print out the counts, sorted by hour as shown below."
   ]
  },
  {
   "cell_type": "code",
   "execution_count": null,
   "metadata": {},
   "outputs": [],
   "source": [
    "while True:\n",
    "    fname = input('Enter a file name: (or \"Quit\"): ')\n",
    "    try:\n",
    "        fhand = open(fname)\n",
    "    except:\n",
    "        if fname.lower() == 'quit':\n",
    "            break\n",
    "        print('File cannot be opened:', fname)\n",
    "        continue\n",
    "    hours = dict()\n",
    "    for line in fhand:\n",
    "        line = line.rstrip()\n",
    "        if not line.startswith('From '):\n",
    "            continue\n",
    "        words = line.split()\n",
    "        if len(words) < 6: continue\n",
    "        if words[5].find(':') == -1: continue\n",
    "        time = words[5].split(':')\n",
    "        hours[time[0]] = hours.get(time[0],0) + 1\n",
    "    hours_list = sorted(hours.items())\n",
    "    for k,v in hours_list:\n",
    "        print(k,v)"
   ]
  },
  {
   "cell_type": "markdown",
   "metadata": {},
   "source": [
    "Exercise 1: Write a simple program to simulate the operation of the grep com\u0002mand on Unix. Ask the user to enter a regular expression and count the number\n",
    "of lines that matched the regular expression:\n",
    "$ python grep.py\n",
    "Enter a regular expression: ^Author\n",
    "mbox.txt had 1798 lines that matched ^Author$ python grep.py\n",
    "$ python grep.py\n",
    "Enter a regular expression: ^X-\n",
    "mbox.txt had 14368 lines that matched ^X-\n",
    "$ python grep.py\n",
    "Enter a regular expression: java$\n",
    "mbox.txt had 4175 lines that matched java$\n",
    "\n"
   ]
  },
  {
   "cell_type": "code",
   "execution_count": null,
   "metadata": {},
   "outputs": [],
   "source": [
    "import re\n",
    "\n",
    "while True:\n",
    "    fname = input('Enter a file name: (or \"Quit\"): ')\n",
    "    try:\n",
    "        fhand = open(fname)\n",
    "    except:\n",
    "        if fname.lower() == 'quit':\n",
    "            break\n",
    "        print('File cannot be opened:', fname)\n",
    "        continue\n",
    "    while True:\n",
    "        rexp = input('Enter a regular expression (or \"Quit\"): ')\n",
    "        # reg_exp = str(rexp)\n",
    "        reg_exp = rexp\n",
    "        # print(reg_exp, len(reg_exp))\n",
    "        if not reg_exp:\n",
    "            print('No search criteria entered')\n",
    "            continue\n",
    "        if reg_exp.lower() == 'quit':\n",
    "            break\n",
    "        fhand.seek(0)\n",
    "        matched_lines = 0\n",
    "        for line in fhand:\n",
    "            line = line.rstrip()\n",
    "            if re.search(reg_exp, line):\n",
    "                matched_lines += 1\n",
    "        print(f'{fname} had {matched_lines} lines that matched {reg_exp}')\n"
   ]
  },
  {
   "cell_type": "code",
   "execution_count": null,
   "metadata": {},
   "outputs": [],
   "source": [
    "import re\n",
    "\n",
    "count = 0                               # Initialize variables\n",
    "\n",
    "input_exp = input('Enter a regular expression: ')\n",
    "reg_exp = str(input_exp)                # Regular Expressions are strings\n",
    "fname = 'mbox.txt'\n",
    "fhand = open(fname)\n",
    "\n",
    "for line in fhand:\n",
    "    line = line.rstrip()\n",
    "\n",
    "    # Only counts if something was found\n",
    "    if re.findall(reg_exp, line) != []:\n",
    "        count += 1\n",
    "\n",
    "print(fname + ' had ' + str(count) + ' lines that matched ' + reg_exp)"
   ]
  },
  {
   "cell_type": "markdown",
   "metadata": {},
   "source": [
    "Exercise 2: Write a program to look for lines of the form:\n",
    "New Revision: 39772\n",
    "Extract the number from each of the lines using a regular expression\n",
    "and the findall() method. Compute the average of the numbers and\n",
    "print out the average as an integer.\n",
    "Enter file:mbox.txt\n",
    "38549\n",
    "Enter file:mbox-short.txt\n",
    "39756"
   ]
  },
  {
   "cell_type": "code",
   "execution_count": null,
   "metadata": {},
   "outputs": [],
   "source": [
    "import re\n",
    "\n",
    "while True:\n",
    "    fname = input('Enter a file name: (or \"Quit\"): ')\n",
    "    try:\n",
    "        fhand = open(fname)\n",
    "    except:\n",
    "        if fname.lower() == 'quit':\n",
    "            break\n",
    "        print('File cannot be opened:', fname)\n",
    "        continue\n",
    "    nums = []\n",
    "    for line in fhand:\n",
    "        line = line.rstrip()\n",
    "        numstr = re.findall('^New Revision: ([0-9]+)', line)\n",
    "        if len(numstr) > 0:\n",
    "            # print(numstr)\n",
    "            for n in numstr:\n",
    "                # nums.append(int(n))\n",
    "                nums.extend(int(n) for n in numstr)\n",
    "    print(int(sum(nums)/len(nums)))"
   ]
  },
  {
   "cell_type": "code",
   "execution_count": null,
   "metadata": {},
   "outputs": [],
   "source": [
    "import re\n",
    "x = 'From: Using the : character'\n",
    "y = re.findall('^F.+:',x) # greedy matching\n",
    "z = re.findall('^F.+?:',x) # not greedy matching\n",
    "print(y)\n",
    "print(z)"
   ]
  },
  {
   "cell_type": "markdown",
   "metadata": {},
   "source": [
    "Handling The Data\n",
    "The basic outline of this problem is to read the file, look for integers using the re.findall(), looking for a regular expression of '[0-9]+' and then converting the extracted strings to integers and summing up the integers.\n",
    "Sample data: http://py4e-data.dr-chuck.net/regex_sum_42.txt (There are 90 values with a sum=445833)\n",
    "Actual data: http://py4e-data.dr-chuck.net/regex_sum_1961233.txt (There are 73 values and the sum ends with 770)"
   ]
  },
  {
   "cell_type": "code",
   "execution_count": null,
   "metadata": {},
   "outputs": [],
   "source": [
    "import re\n",
    "\n",
    "while True:\n",
    "    fname = input('Enter a file name: (or \"Quit\"): ')\n",
    "    try:\n",
    "        fhand = open(fname)\n",
    "    except:\n",
    "        if fname.lower() == 'quit':\n",
    "            break\n",
    "        print('File cannot be opened:', fname)\n",
    "        continue\n",
    "    nums = []\n",
    "    for line in fhand:\n",
    "        line = line.rstrip()\n",
    "        numlst = re.findall('([0-9]+)', line)\n",
    "        nums.extend(int(num) for num in numlst)\n",
    "    print(sum(nums))"
   ]
  },
  {
   "cell_type": "code",
   "execution_count": null,
   "metadata": {},
   "outputs": [],
   "source": [
    "print( sum( [ int(n) for n in re.findall('[0-9]+',open('regex_sum_1961233.txt','r').read()) ] ) )"
   ]
  },
  {
   "cell_type": "markdown",
   "metadata": {},
   "source": [
    "https://docs.python.org"
   ]
  },
  {
   "cell_type": "code",
   "execution_count": null,
   "metadata": {},
   "outputs": [],
   "source": [
    "import urllib.request, urllib.parse, urllib.error\n",
    "from bs4 import BeautifulSoup\n",
    "import ssl\n",
    "# Ignore SSL certificate errors\n",
    "ctx = ssl.create_default_context()\n",
    "ctx.check_hostname = False\n",
    "ctx.verify_mode = ssl.CERT_NONE\n",
    "url = input('Enter - ')\n",
    "html = urllib.request.urlopen(url, context=ctx).read()\n",
    "soup = BeautifulSoup(html, 'html.parser')\n",
    "# Retrieve all of the anchor tags\n",
    "tags = soup('a')\n",
    "for tag in tags:\n",
    "    print(tag.get('href', None))"
   ]
  },
  {
   "cell_type": "markdown",
   "metadata": {},
   "source": [
    "Exercise 1: Change the socket program socket1.py to prompt the user for the\n",
    "URL so it can read any web page.\n",
    "You can use split('/') to break the URL into its component parts so you can\n",
    "extract the host name for the socket connect call. Add error checking using try\n",
    "and except to handle the condition where the user enters an improperly formatted\n",
    "or non-existent URL.\n",
    "\n",
    "http://data.pr4e.org/romeo.txt\n",
    "\n",
    "['http:', '', 'data.pr4e.org', 'romeo.txt']"
   ]
  },
  {
   "cell_type": "code",
   "execution_count": null,
   "metadata": {},
   "outputs": [],
   "source": [
    "import socket\n",
    "\n",
    "mysock = socket.socket(socket.AF_INET, socket.SOCK_STREAM)\n",
    "\n",
    "while True:\n",
    "    url = input('Enter a URL address: (or \"Quit\"): ')\n",
    "    if url.lower() == 'quit':\n",
    "        break\n",
    "    url_lst = url.split('/')\n",
    "    if url_lst == []:\n",
    "        print(f'Are you sure {url} is a valid address?  Please try again.')\n",
    "        continue\n",
    "    # print(url_lst)\n",
    "    host = url_lst[2]\n",
    "    try:\n",
    "        mysock.connect((host, 80))\n",
    "    except:\n",
    "        print(f'URL {host} is improperly formatted or is non-existent')\n",
    "        continue\n",
    "    file = url_lst[3]\n",
    "    GET_cmd = f'GET http://{host}/{file} HTTP/1.0\\r\\n\\r\\n'\n",
    "    cmd = GET_cmd.encode()\n",
    "    mysock.send(cmd)\n",
    "    while True:\n",
    "        data = mysock.recv(512)\n",
    "        if len(data) < 1:\n",
    "            break\n",
    "        print(data.decode(),end='')\n",
    "\n",
    "mysock.close()"
   ]
  },
  {
   "cell_type": "markdown",
   "metadata": {},
   "source": [
    "Exercise 2: Change your socket program so that it counts the number of characters it has received and stops displaying any text after it has shown 3000 characters.\n",
    "The program should retrieve the entire document and count the total number of\n",
    "characters and display the count of the number of characters at the end of the\n",
    "document.\n",
    "\n",
    "http://data.pr4e.org/romeo.txt"
   ]
  },
  {
   "cell_type": "code",
   "execution_count": null,
   "metadata": {},
   "outputs": [],
   "source": [
    "import socket\n",
    "\n",
    "mysock = socket.socket(socket.AF_INET, socket.SOCK_STREAM)\n",
    "\n",
    "while True:\n",
    "    url = input('Enter a URL address: (or \"Quit\"): ')\n",
    "    if url.lower() == 'quit':\n",
    "        break\n",
    "    url_lst = url.split('/')\n",
    "    if url_lst == []:\n",
    "        print(f'Are you sure {url} is a valid address?  Please try again.')\n",
    "        continue\n",
    "    # print(url_lst)\n",
    "    host = url_lst[2]\n",
    "    try:\n",
    "        mysock.connect((host, 80))\n",
    "    except:\n",
    "        print(f'URL {host} is improperly formatted or is non-existent')\n",
    "        continue\n",
    "    file = url_lst[3]\n",
    "    GET_cmd = f'GET http://{host}/{file} HTTP/1.0\\r\\n\\r\\n'\n",
    "    cmd = GET_cmd.encode()\n",
    "    mysock.send(cmd)\n",
    "    recv_str = ''\n",
    "    while True:\n",
    "        data = mysock.recv(512)\n",
    "        if len(data) < 1:\n",
    "            break\n",
    "        data_str = data.decode()\n",
    "        data_str_length = len(data_str)\n",
    "        document_length = len(recv_str)\n",
    "        if (document_length + data_str_length) <= 3000:\n",
    "            print(data_str,end='')\n",
    "        elif document_length < 3000:\n",
    "            end_of_data_string = document_length - 3000\n",
    "            print(data_str[:end_of_data_string])\n",
    "        recv_str = recv_str + data_str\n",
    "    print(len(recv_str))\n",
    "\n",
    "mysock.close()"
   ]
  },
  {
   "cell_type": "markdown",
   "metadata": {},
   "source": [
    "Exercise 3: Use urllib to replicate the previous exercise of (1) retrieving the\n",
    "document from a URL, (2) displaying up to 3000 characters, and (3) counting the\n",
    "overall number of characters in the document. Don’t worry about the headers for\n",
    "this exercise, simply show the first 3000 characters of the document contents.\n",
    "\n",
    "http://data.pr4e.org/romeo.txt"
   ]
  },
  {
   "cell_type": "code",
   "execution_count": null,
   "metadata": {},
   "outputs": [],
   "source": [
    "import urllib.request\n",
    "\n",
    "while True:\n",
    "    url = input('Enter a URL address: (or \"Quit\"): ')\n",
    "    if url.lower() == 'quit':\n",
    "        break\n",
    "    url_lst = url.split('/')\n",
    "    if url_lst == [] or len(url_lst) < 4:\n",
    "        print(f'Are you sure {url} is a valid address?  Please try again.')\n",
    "        continue\n",
    "    # print(url_lst)\n",
    "    host = url_lst[2]\n",
    "    file = url_lst[3]\n",
    "    GET_cmd = f'http://{host}/{file}'\n",
    "    try:\n",
    "        fhand = urllib.request.urlopen(GET_cmd)\n",
    "    except:\n",
    "        print(f'URL {GET_cmd} is improperly formatted or is non-existent')\n",
    "        continue\n",
    "    recv_str = ''\n",
    "    for line in fhand:\n",
    "        data_str = line.decode().rstrip()\n",
    "        data_str_length = len(data_str)\n",
    "        document_length = len(recv_str)\n",
    "        if (document_length + data_str_length) <= 3000:\n",
    "            recv_str = recv_str + data_str\n",
    "            # print(data_str,len(recv_str))\n",
    "            print(data_str)\n",
    "            continue\n",
    "        elif document_length < 3000:\n",
    "            end_of_data_string = 3000 - document_length\n",
    "            # print(data_str, end_of_data_string)\n",
    "            # print(data_str[:end_of_data_string],len(recv_str)+len(data_str[:end_of_data_string]))\n",
    "            print(data_str[:end_of_data_string])\n",
    "            recv_str = recv_str + data_str\n",
    "            continue\n",
    "        recv_str = recv_str + data_str\n",
    "    print(len(recv_str))"
   ]
  },
  {
   "cell_type": "markdown",
   "metadata": {},
   "source": [
    "Exercise 4: Change the urllinks.py program to extract and count paragraph (p)\n",
    "tags from the retrieved HTML document and display the count of the paragraphs\n",
    "as the output of your program. Do not display the paragraph text, only count\n",
    "them. Test your program on several small web pages as well as some larger web\n",
    "pages.\n",
    "\n",
    "https://docs.python.org\n",
    "https://do1.dr-chuck.com"
   ]
  },
  {
   "cell_type": "code",
   "execution_count": null,
   "metadata": {},
   "outputs": [],
   "source": [
    "# To run this, download the BeautifulSoup zip file\n",
    "# http://www.py4e.com/code3/bs4.zip\n",
    "# and unzip it in the same directory as this file\n",
    "\n",
    "import urllib.request, urllib.parse, urllib.error\n",
    "from bs4 import BeautifulSoup\n",
    "import ssl\n",
    "\n",
    "# Ignore SSL certificate errors\n",
    "ctx = ssl.create_default_context()\n",
    "ctx.check_hostname = False\n",
    "ctx.verify_mode = ssl.CERT_NONE\n",
    "\n",
    "url = input('Enter - ')\n",
    "html = urllib.request.urlopen(url, context=ctx).read()\n",
    "soup = BeautifulSoup(html, 'html.parser')\n",
    "\n",
    "# Retrieve all of the anchor tags\n",
    "# tags = soup('a')\n",
    "# Retrieve all of the paragraph tags\n",
    "tag_count = 0\n",
    "tags = soup('p')\n",
    "for tag in tags:\n",
    "    tag_count += 1\n",
    "    # print(tag.get('href', None))\n",
    "    # print(tag)\n",
    "print(f'Number of tags: {tag_count}')\n"
   ]
  },
  {
   "cell_type": "markdown",
   "metadata": {},
   "source": [
    "Exercise 5: (Advanced) Change the socket program so that it only shows data\n",
    "after the headers and a blank line have been received. Remember that recv receives\n",
    "characters (newlines and all), not lines.\n",
    "\n",
    "http://data.pr4e.org/romeo.txt"
   ]
  },
  {
   "cell_type": "code",
   "execution_count": null,
   "metadata": {},
   "outputs": [],
   "source": [
    "import urllib.request\n",
    "\n",
    "while True:\n",
    "    url = input('Enter a URL address: (or \"Quit\"): ')\n",
    "    if url.lower() == 'quit':\n",
    "        break\n",
    "    url_lst = url.split('/')\n",
    "    if url_lst == [] or len(url_lst) < 4:\n",
    "        print(f'Are you sure {url} is a valid address?  Please try again.')\n",
    "        continue\n",
    "    # print(url_lst)\n",
    "    host = url_lst[2]\n",
    "    file = url_lst[3]\n",
    "    GET_cmd = f'http://{host}/{file}'\n",
    "    try:\n",
    "        fhand = urllib.request.urlopen(GET_cmd)\n",
    "    except:\n",
    "        print(f'URL {GET_cmd} is improperly formatted or is non-existent')\n",
    "        continue\n",
    "    for line in fhand:\n",
    "        data_str = line.decode().rstrip()\n",
    "        print(data_str)"
   ]
  },
  {
   "cell_type": "markdown",
   "metadata": {},
   "source": [
    "Welcome Thomas Burgan from Using Python to Access Web Data\n",
    "\n",
    "Exploring the HyperText Transport Protocol\n",
    "\n",
    "You are to retrieve the following document using the HTTP protocol in a way that you can examine the HTTP Response headers.\n",
    "\n",
    "http://data.pr4e.org/intro-short.txt\n",
    "There are three ways that you might retrieve this web page and look at the response headers:\n",
    "\n",
    "Preferred: Modify the socket1.py program to retrieve the above URL and print out the headers and data. Make sure to change the code to retrieve the above URL - the values are different for each URL.\n",
    "Open the URL in a web browser with a developer console or FireBug and manually examine the headers that are returned."
   ]
  },
  {
   "cell_type": "code",
   "execution_count": null,
   "metadata": {},
   "outputs": [],
   "source": [
    "import socket\n",
    "\n",
    "mysock = socket.socket(socket.AF_INET, socket.SOCK_STREAM)\n",
    "\n",
    "while True:\n",
    "    url = input('Enter a URL address: (or \"Quit\"): ')\n",
    "    if url.lower() == 'quit':\n",
    "        break\n",
    "    url_lst = url.split('/')\n",
    "    if url_lst == []:\n",
    "        print(f'Are you sure {url} is a valid address?  Please try again.')\n",
    "        continue\n",
    "    # print(url_lst)\n",
    "    host = url_lst[2]\n",
    "    try:\n",
    "        mysock.connect((host, 80))\n",
    "    except:\n",
    "        print(f'URL {host} is improperly formatted or is non-existent')\n",
    "        continue\n",
    "    file = url_lst[3]\n",
    "    GET_cmd = f'GET http://{host}/{file} HTTP/1.0\\r\\n\\r\\n'\n",
    "    cmd = GET_cmd.encode()\n",
    "    mysock.send(cmd)\n",
    "    while True:\n",
    "        data = mysock.recv(512)\n",
    "        if len(data) < 1:\n",
    "            break\n",
    "        print(data.decode(),end='')\n",
    "\n",
    "mysock.close()"
   ]
  }
 ],
 "metadata": {
  "kernelspec": {
   "display_name": "condaenv",
   "language": "python",
   "name": "python3"
  },
  "language_info": {
   "codemirror_mode": {
    "name": "ipython",
    "version": 3
   },
   "file_extension": ".py",
   "mimetype": "text/x-python",
   "name": "python",
   "nbconvert_exporter": "python",
   "pygments_lexer": "ipython3",
   "version": "3.12.1"
  }
 },
 "nbformat": 4,
 "nbformat_minor": 2
}
