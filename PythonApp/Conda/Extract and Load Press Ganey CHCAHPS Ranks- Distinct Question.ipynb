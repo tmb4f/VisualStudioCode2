{
 "cells": [
  {
   "cell_type": "markdown",
   "metadata": {},
   "source": [
    "Define modules"
   ]
  },
  {
   "cell_type": "code",
   "execution_count": 1,
   "metadata": {},
   "outputs": [],
   "source": [
    "import numpy as np\n",
    "import pandas as pd\n",
    "from tabula import read_pdf"
   ]
  },
  {
   "cell_type": "markdown",
   "metadata": {},
   "source": [
    "Define directory location of source CHCAHPS Ranks PDF file and extracted data file"
   ]
  },
  {
   "cell_type": "code",
   "execution_count": 2,
   "metadata": {},
   "outputs": [],
   "source": [
    "\n",
    "dnamein = \"O:\\\\Computing Services\\\\INFSUP_S\\\\Documentation\\\\Projects\\\\Patient Experience\\\\CHCAHPS\\\\Data\\\\Percentile Rank\\\\Original From Client\\\\011124\"\n",
    "dnameout = \"O:\\\\Computing Services\\\\INFSUP_S\\\\Documentation\\\\Projects\\\\Patient Experience\\\\CHCAHPS\\\\Data\\\\Percentile Rank\\\\Cleaned\""
   ]
  },
  {
   "cell_type": "markdown",
   "metadata": {},
   "source": [
    "Define name of source CHCAHPS Ranks PDF file and extracted data file"
   ]
  },
  {
   "cell_type": "code",
   "execution_count": 3,
   "metadata": {},
   "outputs": [],
   "source": [
    "\n",
    "fnamein = \"2024_01 CHCAHPS TB_R - All PG Database_CMS View.pdf\"\n",
    "fnameout = \"2024_01 CHCAHPS TB_R - All PG Database_CMS View Question.txt\""
   ]
  },
  {
   "cell_type": "markdown",
   "metadata": {},
   "source": [
    "Open data file for writing extracted data"
   ]
  },
  {
   "cell_type": "code",
   "execution_count": 4,
   "metadata": {},
   "outputs": [],
   "source": [
    "fo = open(dnameout + \"\\\\\" + fnameout,'wb')"
   ]
  },
  {
   "cell_type": "markdown",
   "metadata": {},
   "source": [
    "Read PDF file.\n",
    "Is the result a dataframe or a list?\n",
    "\n",
    "It's a List object.\n",
    "\n",
    "Each item in List df is a dataframe"
   ]
  },
  {
   "cell_type": "code",
   "execution_count": 5,
   "metadata": {},
   "outputs": [],
   "source": [
    "df = read_pdf(dnamein + \"\\\\\" + fnamein, pages=\"all\", guess=False, stream=True, pandas_options={'header':None})"
   ]
  },
  {
   "cell_type": "markdown",
   "metadata": {},
   "source": [
    "Create dataframe from concatenated items in a list of dataframes"
   ]
  },
  {
   "cell_type": "code",
   "execution_count": 6,
   "metadata": {},
   "outputs": [],
   "source": [
    "df2 = pd.concat(df)"
   ]
  },
  {
   "cell_type": "markdown",
   "metadata": {},
   "source": [
    "Create objects that will be used to iterate through the dataframe and select the relevant rank data rows for each question"
   ]
  },
  {
   "cell_type": "code",
   "execution_count": 7,
   "metadata": {},
   "outputs": [],
   "source": [
    "domain_i = -1\n",
    "domain_n = \"\"\n",
    "daterange_i = -1\n",
    "daterange_start = \"\"\n",
    "daterange_end = \"\"\n",
    "topbox_i = -1\n",
    "columns = ['StartDate','EndDate','Question','Percentile','Rank']\n",
    "dfo = pd.DataFrame(columns = columns)"
   ]
  },
  {
   "cell_type": "markdown",
   "metadata": {},
   "source": [
    "Append relevant rows to dataframe dfo"
   ]
  },
  {
   "cell_type": "code",
   "execution_count": 8,
   "metadata": {},
   "outputs": [
    {
     "name": "stdout",
     "output_type": "stream",
     "text": [
      "['88.1', '99', '78.1', '66', '70.5', '33']\n",
      "['87.6', '98', '78.0', '65', '69.7', '32']\n",
      "['87.5', '97', '77.6', '64', '68.5', '31']\n",
      "['86.5', '96', '77.1', '63', '68.5', '30']\n",
      "['86.4', '95', '77.1', '62', '68.1', '29']\n",
      "['86.0', '94', '77.1', '61', '68.1', '28']\n",
      "['84.9', '93', '77.0', '60', '67.8', '27']\n",
      "['84.6', '92', '76.9', '59', '67.3', '26']\n",
      "['84.5', '91', '76.8', '58', '67.3', '25']\n",
      "['84.3', '90', '76.6', '57', '67.3', '24']\n",
      "['84.1', '89', '76.2', '56', '67.1', '23']\n",
      "['83.8', '88', '76.1', '55', '66.8', '22']\n",
      "['83.0', '87', '76.0', '54', '66.3', '21']\n",
      "['82.3', '86', '76.0', '53', '66.2', '20']\n",
      "['82.2', '85', '75.9', '52', '65.4', '19']\n",
      "['82.1', '84', '75.8', '51', '65.1', '18']\n",
      "['81.9', '83', '75.3', '50', '64.9', '17']\n",
      "['81.8', '82', '75.2', '49', '64.3', '16']\n",
      "['81.6', '81', '75.1', '48', '63.7', '15']\n",
      "['81.5', '80', '74.8', '47', '62.4', '14']\n",
      "['81.3', '79', '74.6', '46', '62.4', '13']\n",
      "['80.7', '78', '73.9', '45', '61.8', '12']\n",
      "['80.3', '77', '73.8', '44', '61.3', '11']\n",
      "['80.2', '76', '73.8', '43', '61.1', '10']\n",
      "['80.1', '75', '73.7', '42', '60.0', '9']\n",
      "['79.7', '74', '73.2', '41', '59.6', '8']\n",
      "['79.6', '73', '71.9', '40', '59.2', '7']\n",
      "['79.5', '72', '71.6', '39', '59.0', '6']\n",
      "['79.5', '71', '71.4', '38', '54.8', '5']\n",
      "['79.4', '70', '71.0', '37', '53.6', '4']\n",
      "['79.2', '69', '71.0', '36', '53.5', '3']\n",
      "['78.5', '68', '70.7', '35', '51.3', '2']\n",
      "['78.3', '67', '70.7', '34', '0.0', '1']\n"
     ]
    }
   ],
   "source": [
    "\n",
    "for i,row in df2.iterrows():\n",
    " if row[0] == \"All PG Database\": # Page header row\n",
    "     domain_i = i + 3 # Dataframe row with question name\n",
    "     daterange_i = i + 1 # Dataframe row with date range\n",
    "     topbox_i = i + 7 # First dataframe row with rank data\n",
    " if i == domain_i : domain_n = row[0] # Save question name\n",
    " if i == daterange_i: daterange_li = row[0].split(' - '); daterange_start = daterange_li[0]; daterange_end = daterange_li[1] # Save date range\n",
    " if i >= topbox_i and domain_n == \"Rate hospital 0-10\": # Dataframe row contains rank data\n",
    "     topbox_li = row[0].split() # Transform rank data row into a list\n",
    "     print(topbox_li)\n",
    "     for index, item in enumerate(topbox_li):\n",
    "         if index % 2 == 0: # List item is a percentile\n",
    "             nextitem = topbox_li[index+1] # Save rank for percentile\n",
    "             dfo = dfo._append(dict(zip(columns, (daterange_start, daterange_end, domain_n, item, nextitem))),ignore_index=True)"
   ]
  },
  {
   "cell_type": "markdown",
   "metadata": {},
   "source": [
    "Save dfo dataframe rows to text file"
   ]
  },
  {
   "cell_type": "code",
   "execution_count": 9,
   "metadata": {},
   "outputs": [
    {
     "name": "stdout",
     "output_type": "stream",
     "text": [
      "[['07/01/23' '12/31/23' 'Rate hospital 0-10' '88.1' '99']\n",
      " ['07/01/23' '12/31/23' 'Rate hospital 0-10' '78.1' '66']\n",
      " ['07/01/23' '12/31/23' 'Rate hospital 0-10' '70.5' '33']\n",
      " ['07/01/23' '12/31/23' 'Rate hospital 0-10' '87.6' '98']\n",
      " ['07/01/23' '12/31/23' 'Rate hospital 0-10' '78.0' '65']\n",
      " ['07/01/23' '12/31/23' 'Rate hospital 0-10' '69.7' '32']\n",
      " ['07/01/23' '12/31/23' 'Rate hospital 0-10' '87.5' '97']\n",
      " ['07/01/23' '12/31/23' 'Rate hospital 0-10' '77.6' '64']\n",
      " ['07/01/23' '12/31/23' 'Rate hospital 0-10' '68.5' '31']\n",
      " ['07/01/23' '12/31/23' 'Rate hospital 0-10' '86.5' '96']\n",
      " ['07/01/23' '12/31/23' 'Rate hospital 0-10' '77.1' '63']\n",
      " ['07/01/23' '12/31/23' 'Rate hospital 0-10' '68.5' '30']\n",
      " ['07/01/23' '12/31/23' 'Rate hospital 0-10' '86.4' '95']\n",
      " ['07/01/23' '12/31/23' 'Rate hospital 0-10' '77.1' '62']\n",
      " ['07/01/23' '12/31/23' 'Rate hospital 0-10' '68.1' '29']\n",
      " ['07/01/23' '12/31/23' 'Rate hospital 0-10' '86.0' '94']\n",
      " ['07/01/23' '12/31/23' 'Rate hospital 0-10' '77.1' '61']\n",
      " ['07/01/23' '12/31/23' 'Rate hospital 0-10' '68.1' '28']\n",
      " ['07/01/23' '12/31/23' 'Rate hospital 0-10' '84.9' '93']\n",
      " ['07/01/23' '12/31/23' 'Rate hospital 0-10' '77.0' '60']\n",
      " ['07/01/23' '12/31/23' 'Rate hospital 0-10' '67.8' '27']\n",
      " ['07/01/23' '12/31/23' 'Rate hospital 0-10' '84.6' '92']\n",
      " ['07/01/23' '12/31/23' 'Rate hospital 0-10' '76.9' '59']\n",
      " ['07/01/23' '12/31/23' 'Rate hospital 0-10' '67.3' '26']\n",
      " ['07/01/23' '12/31/23' 'Rate hospital 0-10' '84.5' '91']\n",
      " ['07/01/23' '12/31/23' 'Rate hospital 0-10' '76.8' '58']\n",
      " ['07/01/23' '12/31/23' 'Rate hospital 0-10' '67.3' '25']\n",
      " ['07/01/23' '12/31/23' 'Rate hospital 0-10' '84.3' '90']\n",
      " ['07/01/23' '12/31/23' 'Rate hospital 0-10' '76.6' '57']\n",
      " ['07/01/23' '12/31/23' 'Rate hospital 0-10' '67.3' '24']\n",
      " ['07/01/23' '12/31/23' 'Rate hospital 0-10' '84.1' '89']\n",
      " ['07/01/23' '12/31/23' 'Rate hospital 0-10' '76.2' '56']\n",
      " ['07/01/23' '12/31/23' 'Rate hospital 0-10' '67.1' '23']\n",
      " ['07/01/23' '12/31/23' 'Rate hospital 0-10' '83.8' '88']\n",
      " ['07/01/23' '12/31/23' 'Rate hospital 0-10' '76.1' '55']\n",
      " ['07/01/23' '12/31/23' 'Rate hospital 0-10' '66.8' '22']\n",
      " ['07/01/23' '12/31/23' 'Rate hospital 0-10' '83.0' '87']\n",
      " ['07/01/23' '12/31/23' 'Rate hospital 0-10' '76.0' '54']\n",
      " ['07/01/23' '12/31/23' 'Rate hospital 0-10' '66.3' '21']\n",
      " ['07/01/23' '12/31/23' 'Rate hospital 0-10' '82.3' '86']\n",
      " ['07/01/23' '12/31/23' 'Rate hospital 0-10' '76.0' '53']\n",
      " ['07/01/23' '12/31/23' 'Rate hospital 0-10' '66.2' '20']\n",
      " ['07/01/23' '12/31/23' 'Rate hospital 0-10' '82.2' '85']\n",
      " ['07/01/23' '12/31/23' 'Rate hospital 0-10' '75.9' '52']\n",
      " ['07/01/23' '12/31/23' 'Rate hospital 0-10' '65.4' '19']\n",
      " ['07/01/23' '12/31/23' 'Rate hospital 0-10' '82.1' '84']\n",
      " ['07/01/23' '12/31/23' 'Rate hospital 0-10' '75.8' '51']\n",
      " ['07/01/23' '12/31/23' 'Rate hospital 0-10' '65.1' '18']\n",
      " ['07/01/23' '12/31/23' 'Rate hospital 0-10' '81.9' '83']\n",
      " ['07/01/23' '12/31/23' 'Rate hospital 0-10' '75.3' '50']\n",
      " ['07/01/23' '12/31/23' 'Rate hospital 0-10' '64.9' '17']\n",
      " ['07/01/23' '12/31/23' 'Rate hospital 0-10' '81.8' '82']\n",
      " ['07/01/23' '12/31/23' 'Rate hospital 0-10' '75.2' '49']\n",
      " ['07/01/23' '12/31/23' 'Rate hospital 0-10' '64.3' '16']\n",
      " ['07/01/23' '12/31/23' 'Rate hospital 0-10' '81.6' '81']\n",
      " ['07/01/23' '12/31/23' 'Rate hospital 0-10' '75.1' '48']\n",
      " ['07/01/23' '12/31/23' 'Rate hospital 0-10' '63.7' '15']\n",
      " ['07/01/23' '12/31/23' 'Rate hospital 0-10' '81.5' '80']\n",
      " ['07/01/23' '12/31/23' 'Rate hospital 0-10' '74.8' '47']\n",
      " ['07/01/23' '12/31/23' 'Rate hospital 0-10' '62.4' '14']\n",
      " ['07/01/23' '12/31/23' 'Rate hospital 0-10' '81.3' '79']\n",
      " ['07/01/23' '12/31/23' 'Rate hospital 0-10' '74.6' '46']\n",
      " ['07/01/23' '12/31/23' 'Rate hospital 0-10' '62.4' '13']\n",
      " ['07/01/23' '12/31/23' 'Rate hospital 0-10' '80.7' '78']\n",
      " ['07/01/23' '12/31/23' 'Rate hospital 0-10' '73.9' '45']\n",
      " ['07/01/23' '12/31/23' 'Rate hospital 0-10' '61.8' '12']\n",
      " ['07/01/23' '12/31/23' 'Rate hospital 0-10' '80.3' '77']\n",
      " ['07/01/23' '12/31/23' 'Rate hospital 0-10' '73.8' '44']\n",
      " ['07/01/23' '12/31/23' 'Rate hospital 0-10' '61.3' '11']\n",
      " ['07/01/23' '12/31/23' 'Rate hospital 0-10' '80.2' '76']\n",
      " ['07/01/23' '12/31/23' 'Rate hospital 0-10' '73.8' '43']\n",
      " ['07/01/23' '12/31/23' 'Rate hospital 0-10' '61.1' '10']\n",
      " ['07/01/23' '12/31/23' 'Rate hospital 0-10' '80.1' '75']\n",
      " ['07/01/23' '12/31/23' 'Rate hospital 0-10' '73.7' '42']\n",
      " ['07/01/23' '12/31/23' 'Rate hospital 0-10' '60.0' '9']\n",
      " ['07/01/23' '12/31/23' 'Rate hospital 0-10' '79.7' '74']\n",
      " ['07/01/23' '12/31/23' 'Rate hospital 0-10' '73.2' '41']\n",
      " ['07/01/23' '12/31/23' 'Rate hospital 0-10' '59.6' '8']\n",
      " ['07/01/23' '12/31/23' 'Rate hospital 0-10' '79.6' '73']\n",
      " ['07/01/23' '12/31/23' 'Rate hospital 0-10' '71.9' '40']\n",
      " ['07/01/23' '12/31/23' 'Rate hospital 0-10' '59.2' '7']\n",
      " ['07/01/23' '12/31/23' 'Rate hospital 0-10' '79.5' '72']\n",
      " ['07/01/23' '12/31/23' 'Rate hospital 0-10' '71.6' '39']\n",
      " ['07/01/23' '12/31/23' 'Rate hospital 0-10' '59.0' '6']\n",
      " ['07/01/23' '12/31/23' 'Rate hospital 0-10' '79.5' '71']\n",
      " ['07/01/23' '12/31/23' 'Rate hospital 0-10' '71.4' '38']\n",
      " ['07/01/23' '12/31/23' 'Rate hospital 0-10' '54.8' '5']\n",
      " ['07/01/23' '12/31/23' 'Rate hospital 0-10' '79.4' '70']\n",
      " ['07/01/23' '12/31/23' 'Rate hospital 0-10' '71.0' '37']\n",
      " ['07/01/23' '12/31/23' 'Rate hospital 0-10' '53.6' '4']\n",
      " ['07/01/23' '12/31/23' 'Rate hospital 0-10' '79.2' '69']\n",
      " ['07/01/23' '12/31/23' 'Rate hospital 0-10' '71.0' '36']\n",
      " ['07/01/23' '12/31/23' 'Rate hospital 0-10' '53.5' '3']\n",
      " ['07/01/23' '12/31/23' 'Rate hospital 0-10' '78.5' '68']\n",
      " ['07/01/23' '12/31/23' 'Rate hospital 0-10' '70.7' '35']\n",
      " ['07/01/23' '12/31/23' 'Rate hospital 0-10' '51.3' '2']\n",
      " ['07/01/23' '12/31/23' 'Rate hospital 0-10' '78.3' '67']\n",
      " ['07/01/23' '12/31/23' 'Rate hospital 0-10' '70.7' '34']\n",
      " ['07/01/23' '12/31/23' 'Rate hospital 0-10' '0.0' '1']]\n"
     ]
    }
   ],
   "source": [
    "array = dfo.values\n",
    "print(array)\n",
    "df2 = None\n",
    "np.savetxt(fo, array, fmt='%s', delimiter=\",\")\n",
    "fo.close\n",
    "dfo = None\n",
    "array = None"
   ]
  }
 ],
 "metadata": {
  "kernelspec": {
   "display_name": "condaenv",
   "language": "python",
   "name": "python3"
  },
  "language_info": {
   "codemirror_mode": {
    "name": "ipython",
    "version": 3
   },
   "file_extension": ".py",
   "mimetype": "text/x-python",
   "name": "python",
   "nbconvert_exporter": "python",
   "pygments_lexer": "ipython3",
   "version": "3.12.1"
  }
 },
 "nbformat": 4,
 "nbformat_minor": 2
}
