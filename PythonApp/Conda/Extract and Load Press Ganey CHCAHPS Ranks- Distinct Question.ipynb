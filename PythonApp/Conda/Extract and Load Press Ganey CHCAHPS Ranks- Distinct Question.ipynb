{
 "cells": [
  {
   "cell_type": "markdown",
   "metadata": {},
   "source": [
    "Define modules"
   ]
  },
  {
   "cell_type": "code",
   "execution_count": 1,
   "metadata": {},
   "outputs": [],
   "source": [
    "import numpy as np\n",
    "import pandas as pd\n",
    "from tabula import read_pdf"
   ]
  },
  {
   "cell_type": "markdown",
   "metadata": {},
   "source": [
    "Define directory location of source CHCAHPS Ranks PDF file and extracted data file"
   ]
  },
  {
   "cell_type": "code",
   "execution_count": 2,
   "metadata": {},
   "outputs": [],
   "source": [
    "\n",
    "# dnamein = \"O:\\\\Computing Services\\\\INFSUP_S\\\\Documentation\\\\Projects\\\\Patient Experience\\\\CHCAHPS\\\\Data\\\\Percentile Rank\\\\Original From Client\\\\011124\"\n",
    "dnamein = \"O:\\\\Computing Services\\\\INFSUP_S\\\\Documentation\\\\Projects\\\\Patient Experience\\\\CHCAHPS\\\\Data\\\\Percentile Rank\\\\Original From Client\\\\021224\"\n",
    "dnameout = \"O:\\\\Computing Services\\\\INFSUP_S\\\\Documentation\\\\Projects\\\\Patient Experience\\\\CHCAHPS\\\\Data\\\\Percentile Rank\\\\Cleaned\""
   ]
  },
  {
   "cell_type": "markdown",
   "metadata": {},
   "source": [
    "Define name of source CHCAHPS Ranks PDF file and extracted data file"
   ]
  },
  {
   "cell_type": "code",
   "execution_count": 3,
   "metadata": {},
   "outputs": [],
   "source": [
    "\n",
    "# fnamein = \"2024_01 CHCAHPS TB_R - All PG Database_CMS View.pdf\"\n",
    "# fnameout = \"2024_01 CHCAHPS TB_R - All PG Database_CMS View Question.txt\"\n",
    "fnamein = \"2024_02 CHCAHPS TB_R - All PG Database_CMS View.pdf\"\n",
    "fnameout = \"2024_02 CHCAHPS TB_R - All PG Database_CMS View Question.txt\""
   ]
  },
  {
   "cell_type": "markdown",
   "metadata": {},
   "source": [
    "Open data file for writing extracted data"
   ]
  },
  {
   "cell_type": "code",
   "execution_count": 4,
   "metadata": {},
   "outputs": [],
   "source": [
    "fo = open(dnameout + \"\\\\\" + fnameout,'wb')"
   ]
  },
  {
   "cell_type": "markdown",
   "metadata": {},
   "source": [
    "Read PDF file.\n",
    "Is the result a dataframe or a list?\n",
    "\n",
    "It's a List object.\n",
    "\n",
    "Each item in List df is a dataframe"
   ]
  },
  {
   "cell_type": "code",
   "execution_count": 5,
   "metadata": {},
   "outputs": [],
   "source": [
    "df = read_pdf(dnamein + \"\\\\\" + fnamein, pages=\"all\", guess=False, stream=True, pandas_options={'header':None})"
   ]
  },
  {
   "cell_type": "markdown",
   "metadata": {},
   "source": [
    "Create dataframe from concatenated items in a list of dataframes"
   ]
  },
  {
   "cell_type": "code",
   "execution_count": 6,
   "metadata": {},
   "outputs": [],
   "source": [
    "df2 = pd.concat(df)"
   ]
  },
  {
   "cell_type": "markdown",
   "metadata": {},
   "source": [
    "Create objects that will be used to iterate through the dataframe and select the relevant rank data rows for each question"
   ]
  },
  {
   "cell_type": "code",
   "execution_count": 7,
   "metadata": {},
   "outputs": [],
   "source": [
    "domain_i = -1\n",
    "domain_n = \"\"\n",
    "daterange_i = -1\n",
    "daterange_start = \"\"\n",
    "daterange_end = \"\"\n",
    "topbox_i = -1\n",
    "columns = ['StartDate','EndDate','Question','Percentile','Rank']\n",
    "dfo = pd.DataFrame(columns = columns)"
   ]
  },
  {
   "cell_type": "markdown",
   "metadata": {},
   "source": [
    "Append relevant rows to dataframe dfo"
   ]
  },
  {
   "cell_type": "code",
   "execution_count": 8,
   "metadata": {},
   "outputs": [
    {
     "name": "stdout",
     "output_type": "stream",
     "text": [
      "['89.5', '99', '78.1', '66', '69.2', '33']\n",
      "['88.9', '98', '77.9', '65', '68.4', '32']\n",
      "['88.7', '97', '77.7', '64', '68.3', '31']\n",
      "['87.2', '96', '77.6', '63', '68.0', '30']\n",
      "['86.3', '95', '77.4', '62', '67.8', '29']\n",
      "['85.0', '94', '77.1', '61', '67.8', '28']\n",
      "['85.0', '93', '77.1', '60', '67.4', '27']\n",
      "['84.8', '92', '76.6', '59', '66.8', '26']\n",
      "['84.7', '91', '76.4', '58', '66.8', '25']\n",
      "['84.0', '90', '76.2', '57', '66.7', '24']\n",
      "['83.0', '89', '76.2', '56', '65.6', '23']\n",
      "['83.0', '88', '76.1', '55', '65.4', '22']\n",
      "['82.9', '87', '75.7', '54', '65.0', '21']\n",
      "['82.7', '86', '75.7', '53', '65.0', '20']\n",
      "['82.5', '85', '75.0', '52', '64.9', '19']\n",
      "['82.4', '84', '74.8', '51', '63.9', '18']\n",
      "['82.1', '83', '74.7', '50', '62.4', '17']\n",
      "['81.8', '82', '74.3', '49', '62.1', '16']\n",
      "['81.5', '81', '74.1', '48', '62.1', '15']\n",
      "['81.3', '80', '73.9', '47', '61.8', '14']\n",
      "['80.9', '79', '72.5', '46', '61.8', '13']\n",
      "['80.7', '78', '72.5', '45', '60.7', '12']\n",
      "['80.7', '77', '72.2', '44', '60.6', '11']\n",
      "['80.5', '76', '72.2', '43', '60.6', '10']\n",
      "['80.2', '75', '72.2', '42', '60.5', '9']\n",
      "['80.1', '74', '71.4', '41', '60.0', '8']\n",
      "['80.0', '73', '71.3', '40', '59.5', '7']\n",
      "['80.0', '72', '71.0', '39', '59.3', '6']\n",
      "['79.4', '71', '70.9', '38', '59.1', '5']\n",
      "['79.3', '70', '70.6', '37', '55.8', '4']\n",
      "['79.2', '69', '70.0', '36', '55.3', '3']\n",
      "['79.0', '68', '69.9', '35', '53.3', '2']\n",
      "['78.9', '67', '69.6', '34', '0.0', '1']\n"
     ]
    }
   ],
   "source": [
    "\n",
    "for i,row in df2.iterrows():\n",
    " if row[0] == \"All PG Database\": # Page header row\n",
    "     domain_i = i + 3 # Dataframe row with question name\n",
    "     daterange_i = i + 1 # Dataframe row with date range\n",
    "     topbox_i = i + 7 # First dataframe row with rank data\n",
    " if i == domain_i : domain_n = row[0] # Save question name\n",
    " if i == daterange_i: daterange_li = row[0].split(' - '); daterange_start = daterange_li[0]; daterange_end = daterange_li[1] # Save date range\n",
    " if i >= topbox_i and domain_n == \"Rate hospital 0-10\": # Dataframe row contains rank data\n",
    "     topbox_li = row[0].split() # Transform rank data row into a list\n",
    "     print(topbox_li)\n",
    "     for index, item in enumerate(topbox_li):\n",
    "         if index % 2 == 0: # List item is a percentile\n",
    "             nextitem = topbox_li[index+1] # Save rank for percentile\n",
    "             dfo = dfo._append(dict(zip(columns, (daterange_start, daterange_end, domain_n, item, nextitem))),ignore_index=True)"
   ]
  },
  {
   "cell_type": "markdown",
   "metadata": {},
   "source": [
    "Save dfo dataframe rows to text file"
   ]
  },
  {
   "cell_type": "code",
   "execution_count": 9,
   "metadata": {},
   "outputs": [
    {
     "name": "stdout",
     "output_type": "stream",
     "text": [
      "[['08/01/23' '01/31/24' 'Rate hospital 0-10' '89.5' '99']\n",
      " ['08/01/23' '01/31/24' 'Rate hospital 0-10' '78.1' '66']\n",
      " ['08/01/23' '01/31/24' 'Rate hospital 0-10' '69.2' '33']\n",
      " ['08/01/23' '01/31/24' 'Rate hospital 0-10' '88.9' '98']\n",
      " ['08/01/23' '01/31/24' 'Rate hospital 0-10' '77.9' '65']\n",
      " ['08/01/23' '01/31/24' 'Rate hospital 0-10' '68.4' '32']\n",
      " ['08/01/23' '01/31/24' 'Rate hospital 0-10' '88.7' '97']\n",
      " ['08/01/23' '01/31/24' 'Rate hospital 0-10' '77.7' '64']\n",
      " ['08/01/23' '01/31/24' 'Rate hospital 0-10' '68.3' '31']\n",
      " ['08/01/23' '01/31/24' 'Rate hospital 0-10' '87.2' '96']\n",
      " ['08/01/23' '01/31/24' 'Rate hospital 0-10' '77.6' '63']\n",
      " ['08/01/23' '01/31/24' 'Rate hospital 0-10' '68.0' '30']\n",
      " ['08/01/23' '01/31/24' 'Rate hospital 0-10' '86.3' '95']\n",
      " ['08/01/23' '01/31/24' 'Rate hospital 0-10' '77.4' '62']\n",
      " ['08/01/23' '01/31/24' 'Rate hospital 0-10' '67.8' '29']\n",
      " ['08/01/23' '01/31/24' 'Rate hospital 0-10' '85.0' '94']\n",
      " ['08/01/23' '01/31/24' 'Rate hospital 0-10' '77.1' '61']\n",
      " ['08/01/23' '01/31/24' 'Rate hospital 0-10' '67.8' '28']\n",
      " ['08/01/23' '01/31/24' 'Rate hospital 0-10' '85.0' '93']\n",
      " ['08/01/23' '01/31/24' 'Rate hospital 0-10' '77.1' '60']\n",
      " ['08/01/23' '01/31/24' 'Rate hospital 0-10' '67.4' '27']\n",
      " ['08/01/23' '01/31/24' 'Rate hospital 0-10' '84.8' '92']\n",
      " ['08/01/23' '01/31/24' 'Rate hospital 0-10' '76.6' '59']\n",
      " ['08/01/23' '01/31/24' 'Rate hospital 0-10' '66.8' '26']\n",
      " ['08/01/23' '01/31/24' 'Rate hospital 0-10' '84.7' '91']\n",
      " ['08/01/23' '01/31/24' 'Rate hospital 0-10' '76.4' '58']\n",
      " ['08/01/23' '01/31/24' 'Rate hospital 0-10' '66.8' '25']\n",
      " ['08/01/23' '01/31/24' 'Rate hospital 0-10' '84.0' '90']\n",
      " ['08/01/23' '01/31/24' 'Rate hospital 0-10' '76.2' '57']\n",
      " ['08/01/23' '01/31/24' 'Rate hospital 0-10' '66.7' '24']\n",
      " ['08/01/23' '01/31/24' 'Rate hospital 0-10' '83.0' '89']\n",
      " ['08/01/23' '01/31/24' 'Rate hospital 0-10' '76.2' '56']\n",
      " ['08/01/23' '01/31/24' 'Rate hospital 0-10' '65.6' '23']\n",
      " ['08/01/23' '01/31/24' 'Rate hospital 0-10' '83.0' '88']\n",
      " ['08/01/23' '01/31/24' 'Rate hospital 0-10' '76.1' '55']\n",
      " ['08/01/23' '01/31/24' 'Rate hospital 0-10' '65.4' '22']\n",
      " ['08/01/23' '01/31/24' 'Rate hospital 0-10' '82.9' '87']\n",
      " ['08/01/23' '01/31/24' 'Rate hospital 0-10' '75.7' '54']\n",
      " ['08/01/23' '01/31/24' 'Rate hospital 0-10' '65.0' '21']\n",
      " ['08/01/23' '01/31/24' 'Rate hospital 0-10' '82.7' '86']\n",
      " ['08/01/23' '01/31/24' 'Rate hospital 0-10' '75.7' '53']\n",
      " ['08/01/23' '01/31/24' 'Rate hospital 0-10' '65.0' '20']\n",
      " ['08/01/23' '01/31/24' 'Rate hospital 0-10' '82.5' '85']\n",
      " ['08/01/23' '01/31/24' 'Rate hospital 0-10' '75.0' '52']\n",
      " ['08/01/23' '01/31/24' 'Rate hospital 0-10' '64.9' '19']\n",
      " ['08/01/23' '01/31/24' 'Rate hospital 0-10' '82.4' '84']\n",
      " ['08/01/23' '01/31/24' 'Rate hospital 0-10' '74.8' '51']\n",
      " ['08/01/23' '01/31/24' 'Rate hospital 0-10' '63.9' '18']\n",
      " ['08/01/23' '01/31/24' 'Rate hospital 0-10' '82.1' '83']\n",
      " ['08/01/23' '01/31/24' 'Rate hospital 0-10' '74.7' '50']\n",
      " ['08/01/23' '01/31/24' 'Rate hospital 0-10' '62.4' '17']\n",
      " ['08/01/23' '01/31/24' 'Rate hospital 0-10' '81.8' '82']\n",
      " ['08/01/23' '01/31/24' 'Rate hospital 0-10' '74.3' '49']\n",
      " ['08/01/23' '01/31/24' 'Rate hospital 0-10' '62.1' '16']\n",
      " ['08/01/23' '01/31/24' 'Rate hospital 0-10' '81.5' '81']\n",
      " ['08/01/23' '01/31/24' 'Rate hospital 0-10' '74.1' '48']\n",
      " ['08/01/23' '01/31/24' 'Rate hospital 0-10' '62.1' '15']\n",
      " ['08/01/23' '01/31/24' 'Rate hospital 0-10' '81.3' '80']\n",
      " ['08/01/23' '01/31/24' 'Rate hospital 0-10' '73.9' '47']\n",
      " ['08/01/23' '01/31/24' 'Rate hospital 0-10' '61.8' '14']\n",
      " ['08/01/23' '01/31/24' 'Rate hospital 0-10' '80.9' '79']\n",
      " ['08/01/23' '01/31/24' 'Rate hospital 0-10' '72.5' '46']\n",
      " ['08/01/23' '01/31/24' 'Rate hospital 0-10' '61.8' '13']\n",
      " ['08/01/23' '01/31/24' 'Rate hospital 0-10' '80.7' '78']\n",
      " ['08/01/23' '01/31/24' 'Rate hospital 0-10' '72.5' '45']\n",
      " ['08/01/23' '01/31/24' 'Rate hospital 0-10' '60.7' '12']\n",
      " ['08/01/23' '01/31/24' 'Rate hospital 0-10' '80.7' '77']\n",
      " ['08/01/23' '01/31/24' 'Rate hospital 0-10' '72.2' '44']\n",
      " ['08/01/23' '01/31/24' 'Rate hospital 0-10' '60.6' '11']\n",
      " ['08/01/23' '01/31/24' 'Rate hospital 0-10' '80.5' '76']\n",
      " ['08/01/23' '01/31/24' 'Rate hospital 0-10' '72.2' '43']\n",
      " ['08/01/23' '01/31/24' 'Rate hospital 0-10' '60.6' '10']\n",
      " ['08/01/23' '01/31/24' 'Rate hospital 0-10' '80.2' '75']\n",
      " ['08/01/23' '01/31/24' 'Rate hospital 0-10' '72.2' '42']\n",
      " ['08/01/23' '01/31/24' 'Rate hospital 0-10' '60.5' '9']\n",
      " ['08/01/23' '01/31/24' 'Rate hospital 0-10' '80.1' '74']\n",
      " ['08/01/23' '01/31/24' 'Rate hospital 0-10' '71.4' '41']\n",
      " ['08/01/23' '01/31/24' 'Rate hospital 0-10' '60.0' '8']\n",
      " ['08/01/23' '01/31/24' 'Rate hospital 0-10' '80.0' '73']\n",
      " ['08/01/23' '01/31/24' 'Rate hospital 0-10' '71.3' '40']\n",
      " ['08/01/23' '01/31/24' 'Rate hospital 0-10' '59.5' '7']\n",
      " ['08/01/23' '01/31/24' 'Rate hospital 0-10' '80.0' '72']\n",
      " ['08/01/23' '01/31/24' 'Rate hospital 0-10' '71.0' '39']\n",
      " ['08/01/23' '01/31/24' 'Rate hospital 0-10' '59.3' '6']\n",
      " ['08/01/23' '01/31/24' 'Rate hospital 0-10' '79.4' '71']\n",
      " ['08/01/23' '01/31/24' 'Rate hospital 0-10' '70.9' '38']\n",
      " ['08/01/23' '01/31/24' 'Rate hospital 0-10' '59.1' '5']\n",
      " ['08/01/23' '01/31/24' 'Rate hospital 0-10' '79.3' '70']\n",
      " ['08/01/23' '01/31/24' 'Rate hospital 0-10' '70.6' '37']\n",
      " ['08/01/23' '01/31/24' 'Rate hospital 0-10' '55.8' '4']\n",
      " ['08/01/23' '01/31/24' 'Rate hospital 0-10' '79.2' '69']\n",
      " ['08/01/23' '01/31/24' 'Rate hospital 0-10' '70.0' '36']\n",
      " ['08/01/23' '01/31/24' 'Rate hospital 0-10' '55.3' '3']\n",
      " ['08/01/23' '01/31/24' 'Rate hospital 0-10' '79.0' '68']\n",
      " ['08/01/23' '01/31/24' 'Rate hospital 0-10' '69.9' '35']\n",
      " ['08/01/23' '01/31/24' 'Rate hospital 0-10' '53.3' '2']\n",
      " ['08/01/23' '01/31/24' 'Rate hospital 0-10' '78.9' '67']\n",
      " ['08/01/23' '01/31/24' 'Rate hospital 0-10' '69.6' '34']\n",
      " ['08/01/23' '01/31/24' 'Rate hospital 0-10' '0.0' '1']]\n"
     ]
    }
   ],
   "source": [
    "array = dfo.values\n",
    "print(array)\n",
    "df2 = None\n",
    "np.savetxt(fo, array, fmt='%s', delimiter=\",\")\n",
    "fo.close\n",
    "dfo = None\n",
    "array = None"
   ]
  }
 ],
 "metadata": {
  "kernelspec": {
   "display_name": "condaenv",
   "language": "python",
   "name": "python3"
  },
  "language_info": {
   "codemirror_mode": {
    "name": "ipython",
    "version": 3
   },
   "file_extension": ".py",
   "mimetype": "text/x-python",
   "name": "python",
   "nbconvert_exporter": "python",
   "pygments_lexer": "ipython3",
   "version": "3.12.1"
  }
 },
 "nbformat": 4,
 "nbformat_minor": 2
}
