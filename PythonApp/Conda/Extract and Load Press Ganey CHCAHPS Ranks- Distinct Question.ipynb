{
 "cells": [
  {
   "cell_type": "markdown",
   "metadata": {},
   "source": [
    "Define modules"
   ]
  },
  {
   "cell_type": "code",
   "execution_count": null,
   "metadata": {},
   "outputs": [],
   "source": [
    "import numpy as np\n",
    "import pandas as pd\n",
    "from tabula import read_pdf"
   ]
  },
  {
   "cell_type": "markdown",
   "metadata": {},
   "source": [
    "Define directory location of source CHCAHPS Ranks PDF file and extracted data file"
   ]
  },
  {
   "cell_type": "code",
   "execution_count": null,
   "metadata": {},
   "outputs": [],
   "source": [
    "\n",
    "# dnamein = \"O:\\\\Computing Services\\\\INFSUP_S\\\\Documentation\\\\Projects\\\\Patient Experience\\\\CHCAHPS\\\\Data\\\\Percentile Rank\\\\Original From Client\\\\011124\"\n",
    "# dnamein = \"O:\\\\Computing Services\\\\INFSUP_S\\\\Documentation\\\\Projects\\\\Patient Experience\\\\CHCAHPS\\\\Data\\\\Percentile Rank\\\\Original From Client\\\\021224\"\n",
    "# dnamein = \"O:\\\\Computing Services\\\\INFSUP_S\\\\Documentation\\\\Projects\\\\Patient Experience\\\\CHCAHPS\\\\Data\\\\Percentile Rank\\\\Original From Client\\\\031424\"\n",
    "# dnameout = \"O:\\\\Computing Services\\\\INFSUP_S\\\\Documentation\\\\Projects\\\\Patient Experience\\\\CHCAHPS\\\\Data\\\\Percentile Rank\\\\Cleaned\"\n",
    "# dnamein = \"O:\\\\Computing Services\\\\INFSUP_S\\\\Documentation\\\\Projects\\\\Patient Experience\\\\CHCAHPS\\\\Data\\\\Percentile Rank\\\\Original From Client\\\\041124\"\n",
    "# dnamein = \"O:\\\\Computing Services\\\\INFSUP_S\\\\Documentation\\\\Projects\\\\Patient Experience\\\\CHCAHPS\\\\Data\\\\Percentile Rank\\\\Original From Client\\\\051324\"\n",
    "# dnamein = \"O:\\\\Computing Services\\\\INFSUP_S\\\\Documentation\\\\Projects\\\\Patient Experience\\\\CHCAHPS\\\\Data\\\\Percentile Rank\\\\Original From Client\\\\061124\"\n",
    "# dnamein = \"O:\\\\Computing Services\\\\INFSUP_S\\\\Documentation\\\\Projects\\\\Patient Experience\\\\CHCAHPS\\\\Data\\\\Percentile Rank\\\\Original From Client\\\\071124\"\n",
    "dnamein = \"O:\\\\Computing Services\\\\INFSUP_S\\\\Documentation\\\\Projects\\\\Patient Experience\\\\CHCAHPS\\\\Data\\\\Percentile Rank\\\\Original From Client\\\\081224\"\n",
    "dnameout = \"O:\\\\Computing Services\\\\INFSUP_S\\\\Documentation\\\\Projects\\\\Patient Experience\\\\CHCAHPS\\\\Data\\\\Percentile Rank\\\\Cleaned\""
   ]
  },
  {
   "cell_type": "markdown",
   "metadata": {},
   "source": [
    "Define name of source CHCAHPS Ranks PDF file and extracted data file"
   ]
  },
  {
   "cell_type": "code",
   "execution_count": null,
   "metadata": {},
   "outputs": [],
   "source": [
    "\n",
    "# fnamein = \"2024_01 CHCAHPS TB_R - All PG Database_CMS View.pdf\"\n",
    "# fnameout = \"2024_01 CHCAHPS TB_R - All PG Database_CMS View Question.txt\"\n",
    "# fnamein = \"2024_02 CHCAHPS TB_R - All PG Database_CMS View.pdf\"\n",
    "# fnameout = \"2024_02 CHCAHPS TB_R - All PG Database_CMS View Question.txt\"\n",
    "# fnamein = \"2024_03 CHCAHPS TB_R - All PG Database_CMS View.pdf\"\n",
    "# fnameout = \"2024_03 CHCAHPS TB_R - All PG Database_CMS View Question.txt\"\n",
    "# fnamein = \"2024_04 CHCAHPS TB_R - All PG Database_CMS View.pdf\"\n",
    "# fnameout = \"2024_04 CHCAHPS TB_R - All PG Database_CMS View Question.txt\"\n",
    "# fnamein = \"2024_05 CHCAHPS TB_R - All PG Database_CMS View.pdf\"\n",
    "# fnameout = \"2024_05 CHCAHPS TB_R - All PG Database_CMS View Question.txt\"\n",
    "# fnamein = \"2024_06 CHCAHPS TB_R - All PG Database_CMS View.pdf\"\n",
    "# fnameout = \"2024_06 CHCAHPS TB_R - All PG Database_CMS View Question.txt\"\n",
    "# fnamein = \"2024_07 CHCAHPS TB_R - All PG Database_CMS View.pdf\"\n",
    "# fnameout = \"2024_07 CHCAHPS TB_R - All PG Database_CMS View Question.txt\"\n",
    "fnamein = \"2024_08 CHCAHPS TB_R - All PG Database_CMS View.pdf\"\n",
    "fnameout = \"2024_08 CHCAHPS TB_R - All PG Database_CMS View Question.txt\""
   ]
  },
  {
   "cell_type": "markdown",
   "metadata": {},
   "source": [
    "Open data file for writing extracted data"
   ]
  },
  {
   "cell_type": "code",
   "execution_count": null,
   "metadata": {},
   "outputs": [],
   "source": [
    "fo = open(dnameout + \"\\\\\" + fnameout,'wb')"
   ]
  },
  {
   "cell_type": "markdown",
   "metadata": {},
   "source": [
    "Read PDF file.\n",
    "Is the result a dataframe or a list?\n",
    "\n",
    "It's a List object.\n",
    "\n",
    "Each item in List df is a dataframe"
   ]
  },
  {
   "cell_type": "code",
   "execution_count": null,
   "metadata": {},
   "outputs": [],
   "source": [
    "df = read_pdf(dnamein + \"\\\\\" + fnamein, pages=\"all\", guess=False, stream=True, pandas_options={'header':None})"
   ]
  },
  {
   "cell_type": "markdown",
   "metadata": {},
   "source": [
    "Create dataframe from concatenated items in a list of dataframes"
   ]
  },
  {
   "cell_type": "code",
   "execution_count": null,
   "metadata": {},
   "outputs": [],
   "source": [
    "df2 = pd.concat(df)"
   ]
  },
  {
   "cell_type": "markdown",
   "metadata": {},
   "source": [
    "Create objects that will be used to iterate through the dataframe and select the relevant rank data rows for each question"
   ]
  },
  {
   "cell_type": "code",
   "execution_count": null,
   "metadata": {},
   "outputs": [],
   "source": [
    "domain_i = -1\n",
    "domain_n = \"\"\n",
    "daterange_i = -1\n",
    "daterange_start = \"\"\n",
    "daterange_end = \"\"\n",
    "topbox_i = -1\n",
    "columns = ['StartDate','EndDate','Question','Percentile','Rank']\n",
    "dfo = pd.DataFrame(columns = columns)"
   ]
  },
  {
   "cell_type": "markdown",
   "metadata": {},
   "source": [
    "Append relevant rows to dataframe dfo"
   ]
  },
  {
   "cell_type": "code",
   "execution_count": null,
   "metadata": {},
   "outputs": [],
   "source": [
    "\n",
    "for i,row in df2.iterrows():\n",
    " if row[0] == \"All PG Database\": # Page header row\n",
    "     domain_i = i + 3 # Dataframe row with question name\n",
    "     daterange_i = i + 1 # Dataframe row with date range\n",
    "     topbox_i = i + 7 # First dataframe row with rank data\n",
    " if i == domain_i : domain_n = row[0] # Save question name\n",
    " if i == daterange_i: daterange_li = row[0].split(' - '); daterange_start = daterange_li[0]; daterange_end = daterange_li[1] # Save date range\n",
    " if i >= topbox_i and domain_n == \"Rate hospital 0-10\": # Dataframe row contains rank data\n",
    "     topbox_li = row[0].split() # Transform rank data row into a list\n",
    "     print(topbox_li)\n",
    "     for index, item in enumerate(topbox_li):\n",
    "         if index % 2 == 0: # List item is a percentile\n",
    "             nextitem = topbox_li[index+1] # Save rank for percentile\n",
    "             dfo = dfo._append(dict(zip(columns, (daterange_start, daterange_end, domain_n, item, nextitem))),ignore_index=True)"
   ]
  },
  {
   "cell_type": "markdown",
   "metadata": {},
   "source": [
    "Save dfo dataframe rows to text file"
   ]
  },
  {
   "cell_type": "code",
   "execution_count": null,
   "metadata": {},
   "outputs": [],
   "source": [
    "array = dfo.values\n",
    "print(array)\n",
    "df2 = None\n",
    "np.savetxt(fo, array, fmt='%s', delimiter=\",\")\n",
    "fo.close\n",
    "dfo = None\n",
    "array = None"
   ]
  }
 ],
 "metadata": {
  "kernelspec": {
   "display_name": "condaenv",
   "language": "python",
   "name": "python3"
  },
  "language_info": {
   "codemirror_mode": {
    "name": "ipython",
    "version": 3
   },
   "file_extension": ".py",
   "mimetype": "text/x-python",
   "name": "python",
   "nbconvert_exporter": "python",
   "pygments_lexer": "ipython3",
   "version": "3.12.1"
  }
 },
 "nbformat": 4,
 "nbformat_minor": 2
}
