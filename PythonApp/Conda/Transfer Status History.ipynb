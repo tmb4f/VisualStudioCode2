{
 "cells": [
  {
   "cell_type": "markdown",
   "metadata": {},
   "source": [
    "Define modules"
   ]
  },
  {
   "cell_type": "code",
   "execution_count": null,
   "metadata": {},
   "outputs": [],
   "source": [
    "import numpy as np\n",
    "import pandas as pd"
   ]
  },
  {
   "cell_type": "markdown",
   "metadata": {},
   "source": [
    "Define directory location of source Excel file"
   ]
  },
  {
   "cell_type": "code",
   "execution_count": null,
   "metadata": {},
   "outputs": [],
   "source": [
    "# C:/Users/tmb4f/source/Workspaces/Tom Burgan - My Files/Development/GitRepositories/Patient Progression Coalition/Excel Documents\n",
    "dnamein = \"C://Users//tmb4f//source//Workspaces//Tom Burgan - My Files//Development//GitRepositories//Patient Progression Coalition//Excel Documents\""
   ]
  },
  {
   "cell_type": "markdown",
   "metadata": {},
   "source": [
    "Define name of source Excel file"
   ]
  },
  {
   "cell_type": "code",
   "execution_count": null,
   "metadata": {},
   "outputs": [],
   "source": [
    "# fnamein = \"transfer_status_units_cy23ytd.xlsx\"\n",
    "fnamein = \"cy23_and_jan24_20240227.xlsx\""
   ]
  },
  {
   "cell_type": "markdown",
   "metadata": {},
   "source": [
    "Read xlsx and store in OrderedDict collection.  Each sheet name becomes the key value for the respective dataframe."
   ]
  },
  {
   "cell_type": "code",
   "execution_count": null,
   "metadata": {},
   "outputs": [],
   "source": [
    "od = pd.io.excel.read_excel(dnamein + \"//\" + fnamein, sheet_name=None)"
   ]
  },
  {
   "cell_type": "markdown",
   "metadata": {},
   "source": [
    "Move sheet data into Pandas DataFrame"
   ]
  },
  {
   "cell_type": "code",
   "execution_count": null,
   "metadata": {},
   "outputs": [],
   "source": [
    "df = od.get('cy23_and_jan24')\n",
    "print(df)"
   ]
  },
  {
   "cell_type": "markdown",
   "metadata": {},
   "source": [
    "Replace missing values with an empty string"
   ]
  },
  {
   "cell_type": "code",
   "execution_count": null,
   "metadata": {},
   "outputs": [],
   "source": [
    "df2 = df.replace(np.nan, '', regex=True)\n",
    "# print(df2)"
   ]
  },
  {
   "cell_type": "markdown",
   "metadata": {},
   "source": [
    "Create specific DataFrames for each tier.  Add tier description column and convert data types"
   ]
  },
  {
   "cell_type": "code",
   "execution_count": null,
   "metadata": {},
   "outputs": [],
   "source": [
    "df_open_to_transfer = df2.loc[:, [\"open_to_transfer\",\"load_dtm\"]]\n",
    "df_open_to_transfer.insert(0,\"tier\", \"open_to_transfer\")\n",
    "df_open_to_transfer = df_open_to_transfer.convert_dtypes()\n",
    "df_tier_1 = df2.loc[:, [\"tier_1\",\"load_dtm\"]]\n",
    "df_tier_1.insert(0,\"tier\", \"tier_1\")\n",
    "df_tier_1 = df_tier_1.convert_dtypes()\n",
    "df_restricted_tier_1 = df2.loc[:, [\"restricted_tier_1\",\"load_dtm\"]]\n",
    "df_restricted_tier_1.insert(0,\"tier\", \"restricted_tier_1\")\n",
    "df_restricted_tier_1 = df_restricted_tier_1.convert_dtypes()"
   ]
  },
  {
   "cell_type": "markdown",
   "metadata": {},
   "source": [
    "Add list column containing list of units"
   ]
  },
  {
   "cell_type": "code",
   "execution_count": null,
   "metadata": {},
   "outputs": [],
   "source": [
    "df_open_to_transfer=df_open_to_transfer.assign(tier_lst=lambda x: x.open_to_transfer.str.split(\",\"))\n",
    "df_tier_1=df_tier_1.assign(tier_lst=lambda x: x.tier_1.str.split(\",\"))\n",
    "df_restricted_tier_1=df_restricted_tier_1.assign(tier_lst=lambda x: x.restricted_tier_1.str.split(\",\"))"
   ]
  }
 ],
 "metadata": {
  "kernelspec": {
   "display_name": "condaenv",
   "language": "python",
   "name": "python3"
  },
  "language_info": {
   "codemirror_mode": {
    "name": "ipython",
    "version": 3
   },
   "file_extension": ".py",
   "mimetype": "text/x-python",
   "name": "python",
   "nbconvert_exporter": "python",
   "pygments_lexer": "ipython3",
   "version": "3.12.1"
  }
 },
 "nbformat": 4,
 "nbformat_minor": 2
}
