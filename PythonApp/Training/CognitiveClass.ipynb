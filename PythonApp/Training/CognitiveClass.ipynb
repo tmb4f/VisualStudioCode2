{
 "cells": [
  {
   "cell_type": "markdown",
   "metadata": {},
   "source": [
    "Import method modules"
   ]
  },
  {
   "cell_type": "code",
   "execution_count": null,
   "metadata": {},
   "outputs": [],
   "source": [
    "import pandas as pd\n",
    "import numpy as np\n",
    "import sklearn as skl ## Regression and classification predictive analysis\n",
    "from scipy import stats ## Statistical analysis"
   ]
  },
  {
   "cell_type": "markdown",
   "metadata": {},
   "source": [
    "Set external file location"
   ]
  },
  {
   "cell_type": "code",
   "execution_count": null,
   "metadata": {},
   "outputs": [],
   "source": [
    "data_location = \"F:\\\\Training\\\\automobile\\\\imports-85.data\""
   ]
  },
  {
   "cell_type": "markdown",
   "metadata": {},
   "source": [
    "Read data into data frame."
   ]
  },
  {
   "cell_type": "code",
   "execution_count": null,
   "metadata": {},
   "outputs": [],
   "source": [
    "df = pd.read_csv(filepath_or_buffer=data_location, header=None, names = [\"symboling\",\"normalized-losses\",\"make\",\"fuel-type\",\"aspiration\",\"num-of-doors\",\"body-style\",\"drive-wheels\",\n",
    "            \"engine-location\",\"wheel-base\",\"length\",\"width\",\"height\",\"curb-weight\",\"engine-type\",\"num-of-cylinders\",\n",
    "            \"engine-size\",\"fuel-system\",\"bore\",\"stroke\",\"compression-ratio\",\"horsepower\",\"peak-rpm\",\"city-mpg\",\n",
    "            \"highway-mpg\",\"price\"])\n",
    "\n",
    "# display all columns\n",
    "pd.set_option('display.max_columns', None)"
   ]
  },
  {
   "cell_type": "code",
   "execution_count": null,
   "metadata": {},
   "outputs": [],
   "source": [
    "df.head()"
   ]
  },
  {
   "cell_type": "code",
   "execution_count": 87,
   "metadata": {},
   "outputs": [
    {
     "name": "stdout",
     "output_type": "stream",
     "text": [
      "[['alfa-romero' 'gas' 'std' ... 'dohc' 'four' 'mpfi']\n",
      " ['alfa-romero' 'gas' 'std' ... 'dohc' 'four' 'mpfi']\n",
      " ['alfa-romero' 'gas' 'std' ... 'ohcv' 'six' 'mpfi']\n",
      " ...\n",
      " ['volvo' 'gas' 'std' ... 'ohcv' 'six' 'mpfi']\n",
      " ['volvo' 'diesel' 'turbo' ... 'ohc' 'six' 'idi']\n",
      " ['volvo' 'gas' 'turbo' ... 'ohc' 'four' 'mpfi']]\n",
      "[[3 '?' 88.6 ... 21 27 '13495']\n",
      " [3 '?' 88.6 ... 21 27 '16500']\n",
      " [1 '?' 94.5 ... 19 26 '16500']\n",
      " ...\n",
      " [-1 '95' 109.1 ... 18 23 '21485']\n",
      " [-1 '95' 109.1 ... 26 27 '22470']\n",
      " [-1 '95' 109.1 ... 19 25 '22625']]\n"
     ]
    }
   ],
   "source": [
    "categorical = df.iloc[:,[2,3,4,5,6,7,8,14,15,17]].to_numpy()\n",
    "numerical =  df.iloc[:,[0,1,9,10,11,12,13,16,18,19,20,21,22,23,24,25]].to_numpy()\n",
    "print(categorical)\n",
    "print(numerical)"
   ]
  },
  {
   "cell_type": "code",
   "execution_count": null,
   "metadata": {},
   "outputs": [],
   "source": []
  },
  {
   "cell_type": "code",
   "execution_count": null,
   "metadata": {},
   "outputs": [],
   "source": [
    "\n",
    "display(df)"
   ]
  },
  {
   "cell_type": "code",
   "execution_count": null,
   "metadata": {},
   "outputs": [],
   "source": [
    "print(df)"
   ]
  },
  {
   "cell_type": "code",
   "execution_count": null,
   "metadata": {},
   "outputs": [],
   "source": [
    "\n",
    "df.dtypes"
   ]
  },
  {
   "cell_type": "markdown",
   "metadata": {},
   "source": [
    "Display data frame"
   ]
  },
  {
   "cell_type": "code",
   "execution_count": null,
   "metadata": {},
   "outputs": [],
   "source": [
    "df.describe() ## Summarize numeric variables\n",
    "# df.columns"
   ]
  },
  {
   "cell_type": "code",
   "execution_count": null,
   "metadata": {},
   "outputs": [],
   "source": []
  }
 ],
 "metadata": {
  "kernelspec": {
   "display_name": "Python 3",
   "language": "python",
   "name": "python3"
  },
  "language_info": {
   "codemirror_mode": {
    "name": "ipython",
    "version": 3
   },
   "file_extension": ".py",
   "mimetype": "text/x-python",
   "name": "python",
   "nbconvert_exporter": "python",
   "pygments_lexer": "ipython3",
   "version": "3.11.5"
  },
  "orig_nbformat": 4,
  "vscode": {
   "interpreter": {
    "hash": "f0c16d30982a8e0e8d869453ad42bf0ae2e1f3e6e94470896569561d31b3a760"
   }
  }
 },
 "nbformat": 4,
 "nbformat_minor": 2
}
