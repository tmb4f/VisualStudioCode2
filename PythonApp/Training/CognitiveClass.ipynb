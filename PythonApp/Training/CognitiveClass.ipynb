{
 "cells": [
  {
   "cell_type": "markdown",
   "metadata": {},
   "source": [
    "Import method modules"
   ]
  },
  {
   "cell_type": "code",
   "execution_count": null,
   "metadata": {},
   "outputs": [],
   "source": [
    "import pandas as pd\n",
    "import numpy as np\n",
    "import sklearn as skl ## Regression and classification predictive analysis\n",
    "from scipy import stats ## Statistical analysis"
   ]
  },
  {
   "cell_type": "code",
   "execution_count": null,
   "metadata": {},
   "outputs": [],
   "source": [
    "def isnumber(x):\n",
    "    try:\n",
    "        float(x)\n",
    "        return True\n",
    "    except:\n",
    "        return False"
   ]
  },
  {
   "cell_type": "markdown",
   "metadata": {},
   "source": [
    "Set external file location"
   ]
  },
  {
   "cell_type": "code",
   "execution_count": null,
   "metadata": {},
   "outputs": [],
   "source": [
    "data_location = \"F:\\\\Training\\\\automobile\\\\imports-85.data\""
   ]
  },
  {
   "cell_type": "markdown",
   "metadata": {},
   "source": [
    "Read data into data frame."
   ]
  },
  {
   "cell_type": "code",
   "execution_count": null,
   "metadata": {},
   "outputs": [],
   "source": [
    "df = pd.read_csv(filepath_or_buffer=data_location, header=None, names = [\"symboling\",\"normalized-losses\",\"make\",\"fuel-type\",\"aspiration\",\"num-of-doors\",\"body-style\",\"drive-wheels\",\n",
    "            \"engine-location\",\"wheel-base\",\"length\",\"width\",\"height\",\"curb-weight\",\"engine-type\",\"num-of-cylinders\",\n",
    "            \"engine-size\",\"fuel-system\",\"bore\",\"stroke\",\"compression-ratio\",\"horsepower\",\"peak-rpm\",\"city-mpg\",\n",
    "            \"highway-mpg\",\"price\"])\n",
    "\n",
    "# display all columns\n",
    "pd.set_option('display.max_columns', None)"
   ]
  },
  {
   "cell_type": "code",
   "execution_count": null,
   "metadata": {},
   "outputs": [],
   "source": [
    "display(df)"
   ]
  },
  {
   "cell_type": "code",
   "execution_count": null,
   "metadata": {},
   "outputs": [],
   "source": [
    "df.describe() ## Summarize numeric variables\n",
    "# df.columns"
   ]
  },
  {
   "cell_type": "code",
   "execution_count": null,
   "metadata": {},
   "outputs": [],
   "source": [
    "# categorical = df.iloc[:,[2,3,4,5,6,7,8,14,15,17]].to_numpy()\n",
    "# numerical =  df.iloc[:,[0,1,9,10,11,12,13,16,18,19,20,21,22,23,24,25]].to_numpy()\n",
    "categorical = df.iloc[:,[2,3,4,5,6,7,8,14,15,17]]\n",
    "numerical =  df.iloc[:,[0,1,9,10,11,12,13,16,18,19,20,21,22,23,24,25]]\n",
    "# print(categorical)\n",
    "# print(numerical)"
   ]
  },
  {
   "cell_type": "code",
   "execution_count": 20,
   "metadata": {},
   "outputs": [],
   "source": [
    "numerical_map = numerical[numerical.applymap(isnumber)]\n",
    "numerical_map\n",
    "numerical_map.to_csv(path_or_buf=\"F:\\\\Training\\\\automobile\\\\check.csv\")"
   ]
  },
  {
   "cell_type": "markdown",
   "metadata": {},
   "source": [
    "Display data frame"
   ]
  },
  {
   "cell_type": "code",
   "execution_count": null,
   "metadata": {},
   "outputs": [],
   "source": [
    "numerical.iloc[:,1]\n",
    "pd.to_numeric(numerical.loc[:,'normalized-losses'], errors='ignore')\n",
    "# np.char.isnumeric(numerical[:,1])\n",
    "# str.isnumeric(numerical[:,1])\n",
    "# np.char.isnumeric(['123', '?', '123?'])\n",
    "# np.char.isnumeric(a)\n",
    "# str.isdigit(a)\n",
    "# numerical.columns\n",
    "# numerical.loc[:,\"normalized-losses\"].str.isnumeric()\n",
    "# numerical.loc[:,'normalized-losses'].mask(numerical.loc[:,'normalized-losses'].str.isnumeric() is True, np.nan, inplace=True)\n",
    "# numerical.loc[:,\"normalized-losses\"]\n"
   ]
  }
 ],
 "metadata": {
  "kernelspec": {
   "display_name": "Python 3",
   "language": "python",
   "name": "python3"
  },
  "language_info": {
   "codemirror_mode": {
    "name": "ipython",
    "version": 3
   },
   "file_extension": ".py",
   "mimetype": "text/x-python",
   "name": "python",
   "nbconvert_exporter": "python",
   "pygments_lexer": "ipython3",
   "version": "3.11.5"
  },
  "orig_nbformat": 4,
  "vscode": {
   "interpreter": {
    "hash": "f0c16d30982a8e0e8d869453ad42bf0ae2e1f3e6e94470896569561d31b3a760"
   }
  }
 },
 "nbformat": 4,
 "nbformat_minor": 2
}
