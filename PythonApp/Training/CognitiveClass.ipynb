{
 "cells": [
  {
   "cell_type": "markdown",
   "metadata": {},
   "source": [
    "Import method modules"
   ]
  },
  {
   "cell_type": "code",
   "execution_count": null,
   "metadata": {},
   "outputs": [],
   "source": [
    "import pandas as pd\n",
    "import numpy as np\n",
    "import sklearn as skl ## Regression and classification predictive analysis\n",
    "from scipy import stats ## Statistical analysis"
   ]
  },
  {
   "cell_type": "markdown",
   "metadata": {},
   "source": [
    "Define function that can be applied to a dataframe to identity and transform nonnumeric values"
   ]
  },
  {
   "cell_type": "code",
   "execution_count": null,
   "metadata": {},
   "outputs": [],
   "source": [
    "def isnumber(x):\n",
    "    try:\n",
    "        float(x)\n",
    "        return True\n",
    "    except:\n",
    "        return False"
   ]
  },
  {
   "cell_type": "markdown",
   "metadata": {},
   "source": [
    "Set external file location"
   ]
  },
  {
   "cell_type": "code",
   "execution_count": null,
   "metadata": {},
   "outputs": [],
   "source": [
    "data_location = \"F:\\\\Training\\\\automobile\\\\imports-85.data\""
   ]
  },
  {
   "cell_type": "markdown",
   "metadata": {},
   "source": [
    "Read data into data frame."
   ]
  },
  {
   "cell_type": "code",
   "execution_count": null,
   "metadata": {},
   "outputs": [],
   "source": [
    "df = pd.read_csv(filepath_or_buffer=data_location, header=None, names = [\"symboling\",\"normalized-losses\",\"make\",\"fuel-type\",\"aspiration\",\"num-of-doors\",\"body-style\",\"drive-wheels\",\n",
    "            \"engine-location\",\"wheel-base\",\"length\",\"width\",\"height\",\"curb-weight\",\"engine-type\",\"num-of-cylinders\",\n",
    "            \"engine-size\",\"fuel-system\",\"bore\",\"stroke\",\"compression-ratio\",\"horsepower\",\"peak-rpm\",\"city-mpg\",\n",
    "            \"highway-mpg\",\"price\"])\n",
    "\n",
    "# display all columns\n",
    "pd.set_option('display.max_columns', None)"
   ]
  },
  {
   "cell_type": "code",
   "execution_count": null,
   "metadata": {},
   "outputs": [],
   "source": [
    "# display(df)"
   ]
  },
  {
   "cell_type": "code",
   "execution_count": null,
   "metadata": {},
   "outputs": [],
   "source": [
    "# df.describe() ## Summarize numeric variables\n",
    "# df.columns"
   ]
  },
  {
   "cell_type": "markdown",
   "metadata": {},
   "source": [
    "Create separate data frames by data type for univariate correlation analysis"
   ]
  },
  {
   "cell_type": "code",
   "execution_count": null,
   "metadata": {},
   "outputs": [],
   "source": [
    "# categorical = df.iloc[:,[2,3,4,5,6,7,8,14,15,17]].to_numpy()\n",
    "# numerical =  df.iloc[:,[0,1,9,10,11,12,13,16,18,19,20,21,22,23,24,25]].to_numpy()\n",
    "categorical = df.iloc[:,[2,3,4,5,6,7,8,14,15,17,25]]\n",
    "numerical =  df.iloc[:,[0,1,9,10,11,12,13,16,18,19,20,21,22,23,24,25]]\n",
    "# normalized_losses = df.loc[:,'normalized-losses']"
   ]
  },
  {
   "cell_type": "markdown",
   "metadata": {},
   "source": [
    "Replace nonnumeric values in data frame with np.nan value"
   ]
  },
  {
   "cell_type": "code",
   "execution_count": null,
   "metadata": {},
   "outputs": [],
   "source": [
    "numerical_mapped = numerical[numerical.applymap(isnumber)]\n",
    "# numerical_mapped\n",
    "# numerical_map.to_csv(path_or_buf=\"F:\\\\Training\\\\automobile\\\\check.csv\")\n",
    "numerical_mapped = numerical_mapped.astype(float)"
   ]
  },
  {
   "cell_type": "code",
   "execution_count": null,
   "metadata": {},
   "outputs": [],
   "source": [
    "# obj_cols = numerical_mapped.loc[:, df.dtypes == object]\n",
    "# conv_cols = obj_cols.apply(pd.to_numeric, errors = 'coerce')"
   ]
  },
  {
   "cell_type": "code",
   "execution_count": 11,
   "metadata": {},
   "outputs": [],
   "source": [
    "categorical_ndarray = categorical.to_numpy()\n",
    "numerical_ndarray = numerical_mapped.to_numpy()"
   ]
  },
  {
   "cell_type": "code",
   "execution_count": 12,
   "metadata": {},
   "outputs": [
    {
     "data": {
      "text/plain": [
       "array([['alfa-romero', 'gas', 'std', ..., 'four', 'mpfi', '13495'],\n",
       "       ['alfa-romero', 'gas', 'std', ..., 'four', 'mpfi', '16500'],\n",
       "       ['alfa-romero', 'gas', 'std', ..., 'six', 'mpfi', '16500'],\n",
       "       ...,\n",
       "       ['volvo', 'gas', 'std', ..., 'six', 'mpfi', '21485'],\n",
       "       ['volvo', 'diesel', 'turbo', ..., 'six', 'idi', '22470'],\n",
       "       ['volvo', 'gas', 'turbo', ..., 'four', 'mpfi', '22625']],\n",
       "      dtype=object)"
      ]
     },
     "execution_count": 12,
     "metadata": {},
     "output_type": "execute_result"
    }
   ],
   "source": [
    "categorical_ndarray"
   ]
  },
  {
   "cell_type": "code",
   "execution_count": 13,
   "metadata": {},
   "outputs": [
    {
     "data": {
      "text/plain": [
       "array([[ 3.0000e+00,         nan,  8.8600e+01, ...,  2.1000e+01,\n",
       "         2.7000e+01,  1.3495e+04],\n",
       "       [ 3.0000e+00,         nan,  8.8600e+01, ...,  2.1000e+01,\n",
       "         2.7000e+01,  1.6500e+04],\n",
       "       [ 1.0000e+00,         nan,  9.4500e+01, ...,  1.9000e+01,\n",
       "         2.6000e+01,  1.6500e+04],\n",
       "       ...,\n",
       "       [-1.0000e+00,  9.5000e+01,  1.0910e+02, ...,  1.8000e+01,\n",
       "         2.3000e+01,  2.1485e+04],\n",
       "       [-1.0000e+00,  9.5000e+01,  1.0910e+02, ...,  2.6000e+01,\n",
       "         2.7000e+01,  2.2470e+04],\n",
       "       [-1.0000e+00,  9.5000e+01,  1.0910e+02, ...,  1.9000e+01,\n",
       "         2.5000e+01,  2.2625e+04]])"
      ]
     },
     "execution_count": 13,
     "metadata": {},
     "output_type": "execute_result"
    }
   ],
   "source": [
    "numerical_ndarray"
   ]
  }
 ],
 "metadata": {
  "kernelspec": {
   "display_name": "Python 3",
   "language": "python",
   "name": "python3"
  },
  "language_info": {
   "codemirror_mode": {
    "name": "ipython",
    "version": 3
   },
   "file_extension": ".py",
   "mimetype": "text/x-python",
   "name": "python",
   "nbconvert_exporter": "python",
   "pygments_lexer": "ipython3",
   "version": "3.11.5"
  },
  "orig_nbformat": 4,
  "vscode": {
   "interpreter": {
    "hash": "f0c16d30982a8e0e8d869453ad42bf0ae2e1f3e6e94470896569561d31b3a760"
   }
  }
 },
 "nbformat": 4,
 "nbformat_minor": 2
}
